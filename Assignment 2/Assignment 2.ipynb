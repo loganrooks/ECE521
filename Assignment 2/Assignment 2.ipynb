{
 "cells": [
  {
   "cell_type": "code",
   "execution_count": 19,
   "metadata": {},
   "outputs": [],
   "source": [
    "import tensorflow as tf\n",
    "import numpy as np\n",
    "import matplotlib.pyplot as plt\n",
    "%matplotlib inline\n"
   ]
  },
  {
   "cell_type": "code",
   "execution_count": 20,
   "metadata": {},
   "outputs": [],
   "source": [
    "from tensorflow.python.client import device_lib\n",
    "\n",
    "def get_available_gpus():\n",
    "    local_device_protos = device_lib.list_local_devices()\n",
    "    return [x.name for x in local_device_protos if x.device_type == 'GPU']"
   ]
  },
  {
   "cell_type": "code",
   "execution_count": 21,
   "metadata": {},
   "outputs": [
    {
     "data": {
      "text/plain": [
       "['/device:GPU:0']"
      ]
     },
     "execution_count": 21,
     "metadata": {},
     "output_type": "execute_result"
    }
   ],
   "source": [
    "get_available_gpus()\n"
   ]
  },
  {
   "cell_type": "code",
   "execution_count": 23,
   "metadata": {},
   "outputs": [],
   "source": [
    "\n"
   ]
  },
  {
   "cell_type": "code",
   "execution_count": 23,
   "metadata": {},
   "outputs": [],
   "source": [
    "with np.load(\"notMNIST.npz\") as data :\n",
    "    Data, Target = data [\"images\"], data[\"labels\"]\n",
    "    posClass = 2\n",
    "    negClass = 9\n",
    "    dataIndx = (Target==posClass) + (Target==negClass)\n",
    "    Data = Data[dataIndx]/255.\n",
    "    Target = Target[dataIndx].reshape(-1, 1)\n",
    "    Target[Target==posClass] = 1\n",
    "    Target[Target==negClass] = 0\n",
    "    np.random.seed(521)\n",
    "    randIndx = np.arange(len(Data))\n",
    "    np.random.shuffle(randIndx)\n",
    "    Data, Target = Data[randIndx], Target[randIndx]\n",
    "    trainData, trainTarget = Data[:3500], Target[:3500]\n",
    "    validData, validTarget = Data[3500:3600], Target[3500:3600]\n",
    "    testData, testTarget = Data[3600:], Target[3600:]"
   ]
  },
  {
   "cell_type": "code",
   "execution_count": 32,
   "metadata": {},
   "outputs": [],
   "source": [
    "learning_rate = 0.005\n",
    "n_epochs = 20000\n",
    "batch_size = 500\n",
    "n_dim = 28*28"
   ]
  },
  {
   "cell_type": "code",
   "execution_count": 33,
   "metadata": {},
   "outputs": [],
   "source": [
    "def grab_batches(trainData, trainTarget, batch_size):\n",
    "    batch_indices = np.random.permutation(range(3500)).reshape(-1, batch_size)\n",
    "    X_batches = trainData.reshape(-1, n_dim)[batch_indices]\n",
    "    y_batches = trainTarget[batch_indices]\n",
    "    batches = zip(X_batches, y_batches)\n",
    "    return batches"
   ]
  },
  {
   "cell_type": "code",
   "execution_count": 34,
   "metadata": {},
   "outputs": [],
   "source": [
    "X = tf.placeholder(tf.float32,[None,n_dim])\n",
    "Y = tf.placeholder(tf.float32,[None,1])\n",
    "W = tf.Variable(tf.random_normal((n_dim,1), stddev=1e-2))\n",
    "b = tf.Variable(tf.ones((1, 1)))\n",
    "weight_decay = tf.placeholder(tf.float32)"
   ]
  },
  {
   "cell_type": "code",
   "execution_count": 35,
   "metadata": {},
   "outputs": [],
   "source": [
    "y_ = tf.matmul(X, W) + b\n",
    "\n",
    "loss = tf.reduce_mean(tf.squared_difference(y_, Y))\n",
    "regularizer = tf.nn.l2_loss(W)\n",
    "loss = tf.reduce_mean(loss + weight_decay * regularizer)\n",
    "\n",
    "prediction = tf.cast(tf.round(tf.sigmoid(y_)), tf.int8)\n",
    "equality = tf.equal(prediction, tf.cast(Y, tf.int8))\n",
    "accuracy = tf.reduce_mean(tf.cast(equality, tf.float32))\n",
    "\n",
    "training_step = tf.train.GradientDescentOptimizer(learning_rate).minimize(loss)\n",
    "init = tf.global_variables_initializer()"
   ]
  },
  {
   "cell_type": "code",
   "execution_count": 36,
   "metadata": {},
   "outputs": [],
   "source": [
    "weight_decays = [0.0, 0.001, 0.1, 1]\n",
    "valid_accuracies = []\n",
    "train_accuracies = []\n",
    "test_accuracies = []"
   ]
  },
  {
   "cell_type": "code",
   "execution_count": 37,
   "metadata": {},
   "outputs": [
    {
     "name": "stdout",
     "output_type": "stream",
     "text": [
      "Weight Decay: 0.0 \n\n"
     ]
    },
    {
     "name": "stdout",
     "output_type": "stream",
     "text": [
      "Epoch: 500, Loss: 0.026852399110794067, Accuracy: 0.6679999828338623\n"
     ]
    },
    {
     "name": "stdout",
     "output_type": "stream",
     "text": [
      "Epoch: 1000, Loss: 0.02480996958911419, Accuracy: 0.702571451663971\n"
     ]
    },
    {
     "name": "stdout",
     "output_type": "stream",
     "text": [
      "Epoch: 1500, Loss: 0.024455854669213295, Accuracy: 0.6531428694725037\n"
     ]
    },
    {
     "name": "stdout",
     "output_type": "stream",
     "text": [
      "Epoch: 2000, Loss: 0.023601209744811058, Accuracy: 0.6688571572303772\n"
     ]
    },
    {
     "name": "stdout",
     "output_type": "stream",
     "text": [
      "Epoch: 2500, Loss: 0.022923119366168976, Accuracy: 0.6962857246398926\n"
     ]
    },
    {
     "name": "stdout",
     "output_type": "stream",
     "text": [
      "Epoch: 3000, Loss: 0.022640397772192955, Accuracy: 0.7059999704360962\n"
     ]
    },
    {
     "name": "stdout",
     "output_type": "stream",
     "text": [
      "Epoch: 3500, Loss: 0.022351985797286034, Accuracy: 0.7008571624755859\n"
     ]
    },
    {
     "name": "stdout",
     "output_type": "stream",
     "text": [
      "Epoch: 4000, Loss: 0.022254709154367447, Accuracy: 0.6708571314811707\n"
     ]
    },
    {
     "name": "stdout",
     "output_type": "stream",
     "text": [
      "Epoch: 4500, Loss: 0.022054873406887054, Accuracy: 0.7182857394218445\n"
     ]
    },
    {
     "name": "stdout",
     "output_type": "stream",
     "text": [
      "Epoch: 5000, Loss: 0.021739115938544273, Accuracy: 0.6865714192390442\n"
     ]
    },
    {
     "name": "stdout",
     "output_type": "stream",
     "text": [
      "Epoch: 5500, Loss: 0.02160174585878849, Accuracy: 0.7114285826683044\n"
     ]
    },
    {
     "name": "stdout",
     "output_type": "stream",
     "text": [
      "Epoch: 6000, Loss: 0.02143056131899357, Accuracy: 0.7062857151031494\n"
     ]
    },
    {
     "name": "stdout",
     "output_type": "stream",
     "text": [
      "Epoch: 6500, Loss: 0.021291082724928856, Accuracy: 0.7008571624755859\n"
     ]
    },
    {
     "name": "stdout",
     "output_type": "stream",
     "text": [
      "Epoch: 7000, Loss: 0.021321959793567657, Accuracy: 0.6748571395874023\n"
     ]
    },
    {
     "name": "stdout",
     "output_type": "stream",
     "text": [
      "Epoch: 7500, Loss: 0.02122325636446476, Accuracy: 0.6765714287757874\n"
     ]
    },
    {
     "name": "stdout",
     "output_type": "stream",
     "text": [
      "Epoch: 8000, Loss: 0.0211076308041811, Accuracy: 0.6785714030265808\n"
     ]
    },
    {
     "name": "stdout",
     "output_type": "stream",
     "text": [
      "Epoch: 8500, Loss: 0.020924756303429604, Accuracy: 0.6868571639060974\n"
     ]
    },
    {
     "name": "stdout",
     "output_type": "stream",
     "text": [
      "Epoch: 9000, Loss: 0.020822765305638313, Accuracy: 0.7037143111228943\n"
     ]
    },
    {
     "name": "stdout",
     "output_type": "stream",
     "text": [
      "Epoch: 9500, Loss: 0.02078581042587757, Accuracy: 0.7134285569190979\n"
     ]
    },
    {
     "name": "stdout",
     "output_type": "stream",
     "text": [
      "Epoch: 10000, Loss: 0.020902017131447792, Accuracy: 0.665142834186554\n"
     ]
    },
    {
     "name": "stdout",
     "output_type": "stream",
     "text": [
      "Epoch: 10500, Loss: 0.020987294614315033, Accuracy: 0.659428596496582\n"
     ]
    },
    {
     "name": "stdout",
     "output_type": "stream",
     "text": [
      "Epoch: 11000, Loss: 0.02069968543946743, Accuracy: 0.682285726070404\n"
     ]
    },
    {
     "name": "stdout",
     "output_type": "stream",
     "text": [
      "Epoch: 11500, Loss: 0.020894469693303108, Accuracy: 0.6674285531044006\n"
     ]
    },
    {
     "name": "stdout",
     "output_type": "stream",
     "text": [
      "Epoch: 12000, Loss: 0.02073563076555729, Accuracy: 0.7334285974502563\n"
     ]
    },
    {
     "name": "stdout",
     "output_type": "stream",
     "text": [
      "Epoch: 12500, Loss: 0.020377207547426224, Accuracy: 0.696571409702301\n"
     ]
    },
    {
     "name": "stdout",
     "output_type": "stream",
     "text": [
      "Epoch: 13000, Loss: 0.02060282975435257, Accuracy: 0.7302857041358948\n"
     ]
    },
    {
     "name": "stdout",
     "output_type": "stream",
     "text": [
      "Epoch: 13500, Loss: 0.020283011719584465, Accuracy: 0.6959999799728394\n"
     ]
    },
    {
     "name": "stdout",
     "output_type": "stream",
     "text": [
      "Epoch: 14000, Loss: 0.020332742482423782, Accuracy: 0.6845714449882507\n"
     ]
    },
    {
     "name": "stdout",
     "output_type": "stream",
     "text": [
      "Epoch: 14500, Loss: 0.020206186920404434, Accuracy: 0.7120000123977661\n"
     ]
    },
    {
     "name": "stdout",
     "output_type": "stream",
     "text": [
      "Epoch: 15000, Loss: 0.02019752375781536, Accuracy: 0.7142857313156128\n"
     ]
    },
    {
     "name": "stdout",
     "output_type": "stream",
     "text": [
      "Epoch: 15500, Loss: 0.020114075392484665, Accuracy: 0.7051428556442261\n"
     ]
    },
    {
     "name": "stdout",
     "output_type": "stream",
     "text": [
      "Epoch: 16000, Loss: 0.020084049552679062, Accuracy: 0.7099999785423279\n"
     ]
    },
    {
     "name": "stdout",
     "output_type": "stream",
     "text": [
      "Epoch: 16500, Loss: 0.020235326141119003, Accuracy: 0.7294285893440247\n"
     ]
    },
    {
     "name": "stdout",
     "output_type": "stream",
     "text": [
      "Epoch: 17000, Loss: 0.02012975886464119, Accuracy: 0.6845714449882507\n"
     ]
    },
    {
     "name": "stdout",
     "output_type": "stream",
     "text": [
      "Epoch: 17500, Loss: 0.019996531307697296, Accuracy: 0.694857120513916\n"
     ]
    },
    {
     "name": "stdout",
     "output_type": "stream",
     "text": [
      "Epoch: 18000, Loss: 0.01996212638914585, Accuracy: 0.7054286003112793\n"
     ]
    },
    {
     "name": "stdout",
     "output_type": "stream",
     "text": [
      "Epoch: 18500, Loss: 0.019949713721871376, Accuracy: 0.7142857313156128\n"
     ]
    },
    {
     "name": "stdout",
     "output_type": "stream",
     "text": [
      "Epoch: 19000, Loss: 0.019944174215197563, Accuracy: 0.7142857313156128\n"
     ]
    },
    {
     "name": "stdout",
     "output_type": "stream",
     "text": [
      "Epoch: 19500, Loss: 0.020154286175966263, Accuracy: 0.728857159614563\n"
     ]
    },
    {
     "name": "stdout",
     "output_type": "stream",
     "text": [
      "Epoch: 20000, Loss: 0.020035287365317345, Accuracy: 0.6814285516738892\nWeight Decay: 0.001 \n\n"
     ]
    },
    {
     "name": "stdout",
     "output_type": "stream",
     "text": [
      "Epoch: 500, Loss: 0.02687034010887146, Accuracy: 0.6945714354515076\n"
     ]
    },
    {
     "name": "stdout",
     "output_type": "stream",
     "text": [
      "Epoch: 1000, Loss: 0.02500278316438198, Accuracy: 0.7051428556442261\n"
     ]
    },
    {
     "name": "stdout",
     "output_type": "stream",
     "text": [
      "Epoch: 1500, Loss: 0.024157367646694183, Accuracy: 0.6928571462631226\n"
     ]
    },
    {
     "name": "stdout",
     "output_type": "stream",
     "text": [
      "Epoch: 2000, Loss: 0.024417372420430183, Accuracy: 0.7371428608894348\n"
     ]
    },
    {
     "name": "stdout",
     "output_type": "stream",
     "text": [
      "Epoch: 2500, Loss: 0.02348342165350914, Accuracy: 0.6642857193946838\n"
     ]
    },
    {
     "name": "stdout",
     "output_type": "stream",
     "text": [
      "Epoch: 3000, Loss: 0.022997435182332993, Accuracy: 0.6908571720123291\n"
     ]
    },
    {
     "name": "stdout",
     "output_type": "stream",
     "text": [
      "Epoch: 3500, Loss: 0.023115847259759903, Accuracy: 0.6545714139938354\n"
     ]
    },
    {
     "name": "stdout",
     "output_type": "stream",
     "text": [
      "Epoch: 4000, Loss: 0.022631436586380005, Accuracy: 0.6814285516738892\n"
     ]
    },
    {
     "name": "stdout",
     "output_type": "stream",
     "text": [
      "Epoch: 4500, Loss: 0.022611763328313828, Accuracy: 0.7160000205039978\n"
     ]
    },
    {
     "name": "stdout",
     "output_type": "stream",
     "text": [
      "Epoch: 5000, Loss: 0.02244192361831665, Accuracy: 0.6759999990463257\n"
     ]
    },
    {
     "name": "stdout",
     "output_type": "stream",
     "text": [
      "Epoch: 5500, Loss: 0.022225242108106613, Accuracy: 0.6862857341766357\n"
     ]
    },
    {
     "name": "stdout",
     "output_type": "stream",
     "text": [
      "Epoch: 6000, Loss: 0.022237157449126244, Accuracy: 0.7157142758369446\n"
     ]
    },
    {
     "name": "stdout",
     "output_type": "stream",
     "text": [
      "Epoch: 6500, Loss: 0.022209346294403076, Accuracy: 0.7182857394218445\n"
     ]
    },
    {
     "name": "stdout",
     "output_type": "stream",
     "text": [
      "Epoch: 7000, Loss: 0.022072894498705864, Accuracy: 0.6779999732971191\n"
     ]
    },
    {
     "name": "stdout",
     "output_type": "stream",
     "text": [
      "Epoch: 7500, Loss: 0.021931979805231094, Accuracy: 0.691428542137146\n"
     ]
    },
    {
     "name": "stdout",
     "output_type": "stream",
     "text": [
      "Epoch: 8000, Loss: 0.021957505494356155, Accuracy: 0.7182857394218445\n"
     ]
    },
    {
     "name": "stdout",
     "output_type": "stream",
     "text": [
      "Epoch: 8500, Loss: 0.021805889904499054, Accuracy: 0.693142831325531\n"
     ]
    },
    {
     "name": "stdout",
     "output_type": "stream",
     "text": [
      "Epoch: 9000, Loss: 0.02181803248822689, Accuracy: 0.6868571639060974\n"
     ]
    },
    {
     "name": "stdout",
     "output_type": "stream",
     "text": [
      "Epoch: 9500, Loss: 0.02172708511352539, Accuracy: 0.6902857422828674\n"
     ]
    },
    {
     "name": "stdout",
     "output_type": "stream",
     "text": [
      "Epoch: 10000, Loss: 0.022350352257490158, Accuracy: 0.6451428532600403\n"
     ]
    },
    {
     "name": "stdout",
     "output_type": "stream",
     "text": [
      "Epoch: 10500, Loss: 0.021768849343061447, Accuracy: 0.6774285435676575\n"
     ]
    },
    {
     "name": "stdout",
     "output_type": "stream",
     "text": [
      "Epoch: 11000, Loss: 0.021629109978675842, Accuracy: 0.699999988079071\n"
     ]
    },
    {
     "name": "stdout",
     "output_type": "stream",
     "text": [
      "Epoch: 11500, Loss: 0.02173634245991707, Accuracy: 0.6800000071525574\n"
     ]
    },
    {
     "name": "stdout",
     "output_type": "stream",
     "text": [
      "Epoch: 12000, Loss: 0.02165205217897892, Accuracy: 0.6794285774230957\n"
     ]
    },
    {
     "name": "stdout",
     "output_type": "stream",
     "text": [
      "Epoch: 12500, Loss: 0.02155080810189247, Accuracy: 0.6959999799728394\n"
     ]
    },
    {
     "name": "stdout",
     "output_type": "stream",
     "text": [
      "Epoch: 13000, Loss: 0.02156967483460903, Accuracy: 0.7062857151031494\n"
     ]
    },
    {
     "name": "stdout",
     "output_type": "stream",
     "text": [
      "Epoch: 13500, Loss: 0.02151133306324482, Accuracy: 0.6994285583496094\n"
     ]
    },
    {
     "name": "stdout",
     "output_type": "stream",
     "text": [
      "Epoch: 14000, Loss: 0.021513639017939568, Accuracy: 0.7045714259147644\n"
     ]
    },
    {
     "name": "stdout",
     "output_type": "stream",
     "text": [
      "Epoch: 14500, Loss: 0.021488279104232788, Accuracy: 0.6945714354515076\n"
     ]
    },
    {
     "name": "stdout",
     "output_type": "stream",
     "text": [
      "Epoch: 15000, Loss: 0.021677738055586815, Accuracy: 0.7277143001556396\n"
     ]
    },
    {
     "name": "stdout",
     "output_type": "stream",
     "text": [
      "Epoch: 15500, Loss: 0.021472521126270294, Accuracy: 0.6922857165336609\n"
     ]
    },
    {
     "name": "stdout",
     "output_type": "stream",
     "text": [
      "Epoch: 16000, Loss: 0.021448787301778793, Accuracy: 0.6951428651809692\n"
     ]
    },
    {
     "name": "stdout",
     "output_type": "stream",
     "text": [
      "Epoch: 16500, Loss: 0.021467136219143867, Accuracy: 0.6854285597801208\n"
     ]
    },
    {
     "name": "stdout",
     "output_type": "stream",
     "text": [
      "Epoch: 17000, Loss: 0.021621905267238617, Accuracy: 0.7265714406967163\n"
     ]
    },
    {
     "name": "stdout",
     "output_type": "stream",
     "text": [
      "Epoch: 17500, Loss: 0.021470073610544205, Accuracy: 0.7128571271896362\n"
     ]
    },
    {
     "name": "stdout",
     "output_type": "stream",
     "text": [
      "Epoch: 18000, Loss: 0.021622300148010254, Accuracy: 0.7217142581939697\n"
     ]
    },
    {
     "name": "stdout",
     "output_type": "stream",
     "text": [
      "Epoch: 18500, Loss: 0.021388256922364235, Accuracy: 0.6977142691612244\n"
     ]
    },
    {
     "name": "stdout",
     "output_type": "stream",
     "text": [
      "Epoch: 19000, Loss: 0.02150464989244938, Accuracy: 0.6762857437133789\n"
     ]
    },
    {
     "name": "stdout",
     "output_type": "stream",
     "text": [
      "Epoch: 19500, Loss: 0.021376468241214752, Accuracy: 0.6957142949104309\n"
     ]
    },
    {
     "name": "stdout",
     "output_type": "stream",
     "text": [
      "Epoch: 20000, Loss: 0.021380605176091194, Accuracy: 0.6902857422828674\nWeight Decay: 0.1 \n\n"
     ]
    },
    {
     "name": "stdout",
     "output_type": "stream",
     "text": [
      "Epoch: 500, Loss: 0.03150227293372154, Accuracy: 0.6637142896652222\n"
     ]
    },
    {
     "name": "stdout",
     "output_type": "stream",
     "text": [
      "Epoch: 1000, Loss: 0.03104311414062977, Accuracy: 0.6628571152687073\n"
     ]
    },
    {
     "name": "stdout",
     "output_type": "stream",
     "text": [
      "Epoch: 1500, Loss: 0.03130843862891197, Accuracy: 0.6380000114440918\n"
     ]
    },
    {
     "name": "stdout",
     "output_type": "stream",
     "text": [
      "Epoch: 2000, Loss: 0.030933355912566185, Accuracy: 0.6902857422828674\n"
     ]
    },
    {
     "name": "stdout",
     "output_type": "stream",
     "text": [
      "Epoch: 2500, Loss: 0.03090551309287548, Accuracy: 0.6711428761482239\n"
     ]
    },
    {
     "name": "stdout",
     "output_type": "stream",
     "text": [
      "Epoch: 3000, Loss: 0.0309161264449358, Accuracy: 0.6700000166893005\n"
     ]
    },
    {
     "name": "stdout",
     "output_type": "stream",
     "text": [
      "Epoch: 3500, Loss: 0.031053347513079643, Accuracy: 0.6522856950759888\n"
     ]
    },
    {
     "name": "stdout",
     "output_type": "stream",
     "text": [
      "Epoch: 4000, Loss: 0.031156081706285477, Accuracy: 0.6499999761581421\n"
     ]
    },
    {
     "name": "stdout",
     "output_type": "stream",
     "text": [
      "Epoch: 4500, Loss: 0.030910218134522438, Accuracy: 0.6828571557998657\n"
     ]
    },
    {
     "name": "stdout",
     "output_type": "stream",
     "text": [
      "Epoch: 5000, Loss: 0.030908996239304543, Accuracy: 0.668571412563324\n"
     ]
    },
    {
     "name": "stdout",
     "output_type": "stream",
     "text": [
      "Epoch: 5500, Loss: 0.03092544712126255, Accuracy: 0.6660000085830688\n"
     ]
    },
    {
     "name": "stdout",
     "output_type": "stream",
     "text": [
      "Epoch: 6000, Loss: 0.03100600838661194, Accuracy: 0.6597142815589905\n"
     ]
    },
    {
     "name": "stdout",
     "output_type": "stream",
     "text": [
      "Epoch: 6500, Loss: 0.03113824501633644, Accuracy: 0.6485714316368103\n"
     ]
    },
    {
     "name": "stdout",
     "output_type": "stream",
     "text": [
      "Epoch: 7000, Loss: 0.03090319223701954, Accuracy: 0.677142858505249\n"
     ]
    },
    {
     "name": "stdout",
     "output_type": "stream",
     "text": [
      "Epoch: 7500, Loss: 0.03090597689151764, Accuracy: 0.680571436882019\n"
     ]
    },
    {
     "name": "stdout",
     "output_type": "stream",
     "text": [
      "Epoch: 8000, Loss: 0.03090164251625538, Accuracy: 0.678857147693634\n"
     ]
    },
    {
     "name": "stdout",
     "output_type": "stream",
     "text": [
      "Epoch: 8500, Loss: 0.030919890850782394, Accuracy: 0.6728571653366089\n"
     ]
    },
    {
     "name": "stdout",
     "output_type": "stream",
     "text": [
      "Epoch: 9000, Loss: 0.030902203172445297, Accuracy: 0.677142858505249\n"
     ]
    },
    {
     "name": "stdout",
     "output_type": "stream",
     "text": [
      "Epoch: 9500, Loss: 0.030991414561867714, Accuracy: 0.6568571329116821\n"
     ]
    },
    {
     "name": "stdout",
     "output_type": "stream",
     "text": [
      "Epoch: 10000, Loss: 0.031207222491502762, Accuracy: 0.7059999704360962\n"
     ]
    },
    {
     "name": "stdout",
     "output_type": "stream",
     "text": [
      "Epoch: 10500, Loss: 0.030941486358642578, Accuracy: 0.6662856936454773\n"
     ]
    },
    {
     "name": "stdout",
     "output_type": "stream",
     "text": [
      "Epoch: 11000, Loss: 0.0309405867010355, Accuracy: 0.6657142639160156\n"
     ]
    },
    {
     "name": "stdout",
     "output_type": "stream",
     "text": [
      "Epoch: 11500, Loss: 0.030970195308327675, Accuracy: 0.6934285759925842\n"
     ]
    },
    {
     "name": "stdout",
     "output_type": "stream",
     "text": [
      "Epoch: 12000, Loss: 0.031094053760170937, Accuracy: 0.6517142653465271\n"
     ]
    },
    {
     "name": "stdout",
     "output_type": "stream",
     "text": [
      "Epoch: 12500, Loss: 0.03151845186948776, Accuracy: 0.7165714502334595\n"
     ]
    },
    {
     "name": "stdout",
     "output_type": "stream",
     "text": [
      "Epoch: 13000, Loss: 0.030931279063224792, Accuracy: 0.6831428408622742\n"
     ]
    },
    {
     "name": "stdout",
     "output_type": "stream",
     "text": [
      "Epoch: 13500, Loss: 0.031100565567612648, Accuracy: 0.7022857069969177\n"
     ]
    },
    {
     "name": "stdout",
     "output_type": "stream",
     "text": [
      "Epoch: 14000, Loss: 0.030918926000595093, Accuracy: 0.6660000085830688\n"
     ]
    },
    {
     "name": "stdout",
     "output_type": "stream",
     "text": [
      "Epoch: 14500, Loss: 0.030952511355280876, Accuracy: 0.6885714530944824\n"
     ]
    },
    {
     "name": "stdout",
     "output_type": "stream",
     "text": [
      "Epoch: 15000, Loss: 0.03094376251101494, Accuracy: 0.6642857193946838\n"
     ]
    },
    {
     "name": "stdout",
     "output_type": "stream",
     "text": [
      "Epoch: 15500, Loss: 0.030960235744714737, Accuracy: 0.6625714302062988\n"
     ]
    },
    {
     "name": "stdout",
     "output_type": "stream",
     "text": [
      "Epoch: 16000, Loss: 0.030923454090952873, Accuracy: 0.6848571300506592\n"
     ]
    },
    {
     "name": "stdout",
     "output_type": "stream",
     "text": [
      "Epoch: 16500, Loss: 0.030924929305911064, Accuracy: 0.6674285531044006\n"
     ]
    },
    {
     "name": "stdout",
     "output_type": "stream",
     "text": [
      "Epoch: 17000, Loss: 0.03090710937976837, Accuracy: 0.6694285869598389\n"
     ]
    },
    {
     "name": "stdout",
     "output_type": "stream",
     "text": [
      "Epoch: 17500, Loss: 0.03117562085390091, Accuracy: 0.6465714573860168\n"
     ]
    },
    {
     "name": "stdout",
     "output_type": "stream",
     "text": [
      "Epoch: 18000, Loss: 0.03131641075015068, Accuracy: 0.7162857055664062\n"
     ]
    },
    {
     "name": "stdout",
     "output_type": "stream",
     "text": [
      "Epoch: 18500, Loss: 0.030923966318368912, Accuracy: 0.6697142720222473\n"
     ]
    },
    {
     "name": "stdout",
     "output_type": "stream",
     "text": [
      "Epoch: 19000, Loss: 0.03116295114159584, Accuracy: 0.6439999938011169\n"
     ]
    },
    {
     "name": "stdout",
     "output_type": "stream",
     "text": [
      "Epoch: 19500, Loss: 0.031114112585783005, Accuracy: 0.6480000019073486\n"
     ]
    },
    {
     "name": "stdout",
     "output_type": "stream",
     "text": [
      "Epoch: 20000, Loss: 0.03090984933078289, Accuracy: 0.6842857003211975\nWeight Decay: 1 \n\n"
     ]
    },
    {
     "name": "stdout",
     "output_type": "stream",
     "text": [
      "Epoch: 500, Loss: 0.040897518396377563, Accuracy: 0.6602857112884521\n"
     ]
    },
    {
     "name": "stdout",
     "output_type": "stream",
     "text": [
      "Epoch: 1000, Loss: 0.040864843875169754, Accuracy: 0.6639999747276306\n"
     ]
    },
    {
     "name": "stdout",
     "output_type": "stream",
     "text": [
      "Epoch: 1500, Loss: 0.04073961451649666, Accuracy: 0.6377142667770386\n"
     ]
    },
    {
     "name": "stdout",
     "output_type": "stream",
     "text": [
      "Epoch: 2000, Loss: 0.04114212468266487, Accuracy: 0.62371426820755\n"
     ]
    },
    {
     "name": "stdout",
     "output_type": "stream",
     "text": [
      "Epoch: 2500, Loss: 0.04072319343686104, Accuracy: 0.6471428275108337\n"
     ]
    },
    {
     "name": "stdout",
     "output_type": "stream",
     "text": [
      "Epoch: 3000, Loss: 0.04081650450825691, Accuracy: 0.6622856855392456\n"
     ]
    },
    {
     "name": "stdout",
     "output_type": "stream",
     "text": [
      "Epoch: 3500, Loss: 0.04071647301316261, Accuracy: 0.6477142572402954\n"
     ]
    },
    {
     "name": "stdout",
     "output_type": "stream",
     "text": [
      "Epoch: 4000, Loss: 0.040852196514606476, Accuracy: 0.6677142977714539\n"
     ]
    },
    {
     "name": "stdout",
     "output_type": "stream",
     "text": [
      "Epoch: 4500, Loss: 0.040844399482011795, Accuracy: 0.665142834186554\n"
     ]
    },
    {
     "name": "stdout",
     "output_type": "stream",
     "text": [
      "Epoch: 5000, Loss: 0.04075494781136513, Accuracy: 0.6342856884002686\n"
     ]
    },
    {
     "name": "stdout",
     "output_type": "stream",
     "text": [
      "Epoch: 5500, Loss: 0.04081759601831436, Accuracy: 0.6334285736083984\n"
     ]
    },
    {
     "name": "stdout",
     "output_type": "stream",
     "text": [
      "Epoch: 6000, Loss: 0.040760159492492676, Accuracy: 0.6377142667770386\n"
     ]
    },
    {
     "name": "stdout",
     "output_type": "stream",
     "text": [
      "Epoch: 6500, Loss: 0.04084332659840584, Accuracy: 0.6302857398986816\n"
     ]
    },
    {
     "name": "stdout",
     "output_type": "stream",
     "text": [
      "Epoch: 7000, Loss: 0.04092143476009369, Accuracy: 0.6728571653366089\n"
     ]
    },
    {
     "name": "stdout",
     "output_type": "stream",
     "text": [
      "Epoch: 7500, Loss: 0.04071751981973648, Accuracy: 0.6502857208251953\n"
     ]
    },
    {
     "name": "stdout",
     "output_type": "stream",
     "text": [
      "Epoch: 8000, Loss: 0.040864184498786926, Accuracy: 0.6694285869598389\n"
     ]
    },
    {
     "name": "stdout",
     "output_type": "stream",
     "text": [
      "Epoch: 8500, Loss: 0.04080751910805702, Accuracy: 0.6602857112884521\n"
     ]
    },
    {
     "name": "stdout",
     "output_type": "stream",
     "text": [
      "Epoch: 9000, Loss: 0.040714651346206665, Accuracy: 0.6505714058876038\n"
     ]
    },
    {
     "name": "stdout",
     "output_type": "stream",
     "text": [
      "Epoch: 9500, Loss: 0.04073747992515564, Accuracy: 0.657714307308197\n"
     ]
    },
    {
     "name": "stdout",
     "output_type": "stream",
     "text": [
      "Epoch: 10000, Loss: 0.04072238504886627, Accuracy: 0.6545714139938354\n"
     ]
    },
    {
     "name": "stdout",
     "output_type": "stream",
     "text": [
      "Epoch: 10500, Loss: 0.04076980799436569, Accuracy: 0.6582857370376587\n"
     ]
    },
    {
     "name": "stdout",
     "output_type": "stream",
     "text": [
      "Epoch: 11000, Loss: 0.040779028087854385, Accuracy: 0.6299999952316284\n"
     ]
    },
    {
     "name": "stdout",
     "output_type": "stream",
     "text": [
      "Epoch: 11500, Loss: 0.04112645238637924, Accuracy: 0.6777142882347107\n"
     ]
    },
    {
     "name": "stdout",
     "output_type": "stream",
     "text": [
      "Epoch: 12000, Loss: 0.040716301649808884, Accuracy: 0.6462857127189636\n"
     ]
    },
    {
     "name": "stdout",
     "output_type": "stream",
     "text": [
      "Epoch: 12500, Loss: 0.040933381766080856, Accuracy: 0.6277142763137817\n"
     ]
    },
    {
     "name": "stdout",
     "output_type": "stream",
     "text": [
      "Epoch: 13000, Loss: 0.04071439430117607, Accuracy: 0.650857150554657\n"
     ]
    },
    {
     "name": "stdout",
     "output_type": "stream",
     "text": [
      "Epoch: 13500, Loss: 0.04072273150086403, Accuracy: 0.6485714316368103\n"
     ]
    },
    {
     "name": "stdout",
     "output_type": "stream",
     "text": [
      "Epoch: 14000, Loss: 0.040811099112033844, Accuracy: 0.661142885684967\n"
     ]
    },
    {
     "name": "stdout",
     "output_type": "stream",
     "text": [
      "Epoch: 14500, Loss: 0.040719736367464066, Accuracy: 0.6517142653465271\n"
     ]
    },
    {
     "name": "stdout",
     "output_type": "stream",
     "text": [
      "Epoch: 15000, Loss: 0.04075178503990173, Accuracy: 0.6345714330673218\n"
     ]
    },
    {
     "name": "stdout",
     "output_type": "stream",
     "text": [
      "Epoch: 15500, Loss: 0.040897272527217865, Accuracy: 0.6671428680419922\n"
     ]
    },
    {
     "name": "stdout",
     "output_type": "stream",
     "text": [
      "Epoch: 16000, Loss: 0.0407324880361557, Accuracy: 0.6431428790092468\n"
     ]
    },
    {
     "name": "stdout",
     "output_type": "stream",
     "text": [
      "Epoch: 16500, Loss: 0.04071417450904846, Accuracy: 0.650857150554657\n"
     ]
    },
    {
     "name": "stdout",
     "output_type": "stream",
     "text": [
      "Epoch: 17000, Loss: 0.041695885360240936, Accuracy: 0.6060000061988831\n"
     ]
    },
    {
     "name": "stdout",
     "output_type": "stream",
     "text": [
      "Epoch: 17500, Loss: 0.040904149413108826, Accuracy: 0.6745714545249939\n"
     ]
    },
    {
     "name": "stdout",
     "output_type": "stream",
     "text": [
      "Epoch: 18000, Loss: 0.040714330971241, Accuracy: 0.647428572177887\n"
     ]
    },
    {
     "name": "stdout",
     "output_type": "stream",
     "text": [
      "Epoch: 18500, Loss: 0.0408809632062912, Accuracy: 0.6717143058776855\n"
     ]
    },
    {
     "name": "stdout",
     "output_type": "stream",
     "text": [
      "Epoch: 19000, Loss: 0.04077797010540962, Accuracy: 0.6539999842643738\n"
     ]
    },
    {
     "name": "stdout",
     "output_type": "stream",
     "text": [
      "Epoch: 19500, Loss: 0.040902651846408844, Accuracy: 0.6700000166893005\n"
     ]
    },
    {
     "name": "stdout",
     "output_type": "stream",
     "text": [
      "Epoch: 20000, Loss: 0.04073069989681244, Accuracy: 0.6531428694725037\n"
     ]
    }
   ],
   "source": [
    "with tf.Session() as sess:\n",
    "    for wd in weight_decays:\n",
    "        sess.run(init)\n",
    "        print(\"Weight Decay: {} \\n\".format(wd))\n",
    "        for epoch in range(1,n_epochs+1):\n",
    "            batches = grab_batches(trainData, trainTarget, batch_size)\n",
    "            for X_batch, y_batch in batches:\n",
    "                sess.run(training_step, feed_dict={X: X_batch, Y: y_batch, weight_decay: wd})\n",
    "            if epoch % 500 == 0:\n",
    "                feed_dict ={X: trainData.reshape(-1,n_dim), Y: trainTarget, weight_decay: wd}\n",
    "                train_loss, train_accuracy = sess.run([loss, accuracy], feed_dict)\n",
    "                print(\"Epoch: {}, Loss: {}, Accuracy: {}\".format(epoch, train_loss, train_accuracy))\n",
    "        train_accuracies.append(train_accuracy)\n",
    "        valid_accuracy = sess.run(accuracy, feed_dict = {X: validData.reshape(-1,n_dim), Y: validTarget})\n",
    "        valid_accuracies.append(valid_accuracy)\n",
    "        test_accuracy = sess.run(accuracy, feed_dict = {X: testData.reshape(-1,n_dim), Y: testTarget})\n",
    "        test_accuracies.append(test_accuracy)"
   ]
  },
  {
   "cell_type": "code",
   "execution_count": 45,
   "metadata": {},
   "outputs": [
    {
     "name": "stdout",
     "output_type": "stream",
     "text": [
      "[0.71, 0.72, 0.69, 0.66]\n"
     ]
    }
   ],
   "source": [
    "print(valid_accuracies)"
   ]
  },
  {
   "cell_type": "code",
   "execution_count": 49,
   "metadata": {},
   "outputs": [],
   "source": [
    "print(train_accuracies)"
   ]
  },
  {
   "cell_type": "code",
   "execution_count": 48,
   "metadata": {
    "scrolled": true
   },
   "outputs": [
    {
     "name": "stdout",
     "output_type": "stream",
     "text": [
      "[0.6896552, 0.69655174, 0.7034483, 0.6689655]\n"
     ]
    }
   ],
   "source": [
    "print(test_accuracies)"
   ]
  },
  {
   "cell_type": "markdown",
   "metadata": {},
   "source": [
    "## Comparison SGD with Normal Equation"
   ]
  },
  {
   "cell_type": "code",
   "execution_count": 69,
   "metadata": {},
   "outputs": [],
   "source": [
    "def normal_equation():\n",
    "    X = tf.placeholder(tf.float32,[None,n_dim+1])\n",
    "    Y = tf.placeholder(tf.float32,[None,1])\n",
    "    X_train = tf.concat([tf.ones([trainData.shape[0], 1]), tf.convert_to_tensor(trainData.reshape(-1,n_dim), dtype=tf.float32)], axis=1)\n",
    "    Y_train = tf.convert_to_tensor(trainTarget, dtype=tf.float32)\n",
    "    Theta = tf.matmul(tf.matrix_inverse(tf.matmul(tf.transpose(X_train),X_train)), tf.matmul(tf.transpose(X_train), Y_train))\n",
    "    y_ = tf.matmul(X, Theta)\n",
    "\n",
    "    loss = tf.reduce_mean(tf.squared_difference(y_, Y))\n",
    "\n",
    "    prediction = tf.cast(tf.round(tf.sigmoid(y_)), tf.int8)\n",
    "    equality = tf.equal(prediction, tf.cast(Y, tf.int8))\n",
    "    accuracy = tf.reduce_mean(tf.cast(equality, tf.float32))\n",
    "\n",
    "    init = tf.global_variables_initializer()\n",
    "    with tf.Session() as sess:\n",
    "        sess.run(init)\n",
    "        feed_dict ={X: np.concatenate((np.ones([trainData.shape[0], 1]), trainData.reshape(-1, n_dim)), axis=1), Y: trainTarget}\n",
    "        train_metrics = sess.run([loss, accuracy], feed_dict)\n",
    "        valid_metrics = sess.run([loss, accuracy], {X: np.concatenate((np.ones([validData.shape[0], 1]), validData.reshape(-1, n_dim)), axis=1), Y: validTarget})\n",
    "        test_metrics = sess.run([loss, accuracy], {X: np.concatenate((np.ones([testData.shape[0], 1]), testData.reshape(-1, n_dim)), axis=1), Y: testTarget})\n",
    "        return train_metrics, valid_metrics, test_metrics"
   ]
  },
  {
   "cell_type": "code",
   "execution_count": 68,
   "metadata": {},
   "outputs": [
    {
     "name": "stdout",
     "output_type": "stream",
     "text": [
      "(3500, 785)\n"
     ]
    },
    {
     "data": {
      "text/plain": [
       "([0.018783705, 0.7048572], [0.04091074, 0.7], [0.051898636, 0.7034483])"
      ]
     },
     "execution_count": 68,
     "metadata": {},
     "output_type": "execute_result"
    }
   ],
   "source": [
    "normal_equation()"
   ]
  },
  {
   "cell_type": "code",
   "execution_count": 77,
   "metadata": {},
   "outputs": [],
   "source": [
    "def train():\n",
    "    with tf.Session() as sess:\n",
    "        sess.run(init)\n",
    "        for epoch in range(500):\n",
    "            batches = grab_batches(trainData, trainTarget, 500)\n",
    "            for X_batch, y_batch in batches:\n",
    "                sess.run(training_step, feed_dict={X: X_batch, Y: y_batch, weight_decay: 0.0})\n",
    "        "
   ]
  },
  {
   "cell_type": "code",
   "execution_count": 78,
   "metadata": {},
   "outputs": [
    {
     "name": "stdout",
     "output_type": "stream",
     "text": [
      "0.27119013060000724\n"
     ]
    }
   ],
   "source": [
    "import timeit\n",
    "time = timeit.timeit(stmt='normal_equation()', setup='from __main__ import normal_equation', number=10)/10\n",
    "print(time)"
   ]
  },
  {
   "cell_type": "code",
   "execution_count": 79,
   "metadata": {},
   "outputs": [
    {
     "name": "stdout",
     "output_type": "stream",
     "text": [
      "12.465035603899741\n"
     ]
    }
   ],
   "source": [
    "time = timeit.timeit('train()', setup='from __main__ import train', number=10)/10\n",
    "print(time)"
   ]
  },
  {
   "cell_type": "markdown",
   "metadata": {},
   "source": [
    "## 2.1.3 Comparison with Linear Regression"
   ]
  },
  {
   "cell_type": "markdown",
   "metadata": {},
   "source": [
    "#### Logistic Regression without Weight Decay"
   ]
  },
  {
   "cell_type": "code",
   "execution_count": 70,
   "metadata": {},
   "outputs": [],
   "source": [
    "learning_rate = 0.001\n",
    "n_epochs = 5000\n",
    "batch_size = 500\n",
    "n_dim = 28*28"
   ]
  },
  {
   "cell_type": "code",
   "execution_count": 71,
   "metadata": {},
   "outputs": [],
   "source": [
    "X = tf.placeholder(tf.float32,[None,n_dim])\n",
    "Y = tf.placeholder(tf.float32,[None,1])\n",
    "W = tf.Variable(tf.random_normal((n_dim,1), stddev=1e-2))\n",
    "b = tf.Variable(tf.ones((1, 1)))"
   ]
  },
  {
   "cell_type": "code",
   "execution_count": 72,
   "metadata": {},
   "outputs": [],
   "source": [
    "y_ = tf.matmul(X, W) + b\n",
    "\n",
    "loss = tf.reduce_mean(tf.nn.sigmoid_cross_entropy_with_logits(logits=y_, labels=Y))\n",
    "\n",
    "prediction = tf.cast(tf.round(tf.sigmoid(y_)), tf.int8)\n",
    "equality = tf.equal(prediction, tf.cast(Y, tf.int8))\n",
    "accuracy = tf.reduce_mean(tf.cast(equality, tf.float32))\n",
    "\n",
    "optimizer = tf.train.AdamOptimizer(learning_rate)\n",
    "training_step = optimizer.minimize(loss)\n",
    "init = tf.global_variables_initializer()"
   ]
  },
  {
   "cell_type": "code",
   "execution_count": 73,
   "metadata": {},
   "outputs": [],
   "source": [
    "valid_accuracies = []\n",
    "train_accuracies = []\n",
    "test_accuracies = []\n",
    "train_losses = []"
   ]
  },
  {
   "cell_type": "code",
   "execution_count": 74,
   "metadata": {},
   "outputs": [
    {
     "name": "stdout",
     "output_type": "stream",
     "text": [
      "Epoch: 100, Loss: 0.0503045991063118, Accuracy: 0.9834285974502563\n"
     ]
    },
    {
     "name": "stdout",
     "output_type": "stream",
     "text": [
      "Epoch: 200, Loss: 0.038918446749448776, Accuracy: 0.9862856864929199\n"
     ]
    },
    {
     "name": "stdout",
     "output_type": "stream",
     "text": [
      "Epoch: 300, Loss: 0.03204568102955818, Accuracy: 0.9885714054107666\n"
     ]
    },
    {
     "name": "stdout",
     "output_type": "stream",
     "text": [
      "Epoch: 400, Loss: 0.027060985565185547, Accuracy: 0.9908571243286133\n"
     ]
    },
    {
     "name": "stdout",
     "output_type": "stream",
     "text": [
      "Epoch: 500, Loss: 0.023120108991861343, Accuracy: 0.99314284324646\n"
     ]
    },
    {
     "name": "stdout",
     "output_type": "stream",
     "text": [
      "Epoch: 600, Loss: 0.0200025737285614, Accuracy: 0.9945714473724365\n"
     ]
    },
    {
     "name": "stdout",
     "output_type": "stream",
     "text": [
      "Epoch: 700, Loss: 0.017520355060696602, Accuracy: 0.9954285621643066\n"
     ]
    },
    {
     "name": "stdout",
     "output_type": "stream",
     "text": [
      "Epoch: 800, Loss: 0.015410570427775383, Accuracy: 0.9959999918937683\n"
     ]
    },
    {
     "name": "stdout",
     "output_type": "stream",
     "text": [
      "Epoch: 900, Loss: 0.01371052861213684, Accuracy: 0.9962857365608215\n"
     ]
    },
    {
     "name": "stdout",
     "output_type": "stream",
     "text": [
      "Epoch: 1000, Loss: 0.012172942981123924, Accuracy: 0.9977142810821533\n"
     ]
    },
    {
     "name": "stdout",
     "output_type": "stream",
     "text": [
      "Epoch: 1100, Loss: 0.010887092910706997, Accuracy: 0.9980000257492065\n"
     ]
    },
    {
     "name": "stdout",
     "output_type": "stream",
     "text": [
      "Epoch: 1200, Loss: 0.009836542420089245, Accuracy: 0.998285710811615\n"
     ]
    },
    {
     "name": "stdout",
     "output_type": "stream",
     "text": [
      "Epoch: 1300, Loss: 0.00888180173933506, Accuracy: 0.9980000257492065\n"
     ]
    },
    {
     "name": "stdout",
     "output_type": "stream",
     "text": [
      "Epoch: 1400, Loss: 0.008089647628366947, Accuracy: 0.9980000257492065\n"
     ]
    },
    {
     "name": "stdout",
     "output_type": "stream",
     "text": [
      "Epoch: 1500, Loss: 0.007292051799595356, Accuracy: 0.9985714554786682\n"
     ]
    },
    {
     "name": "stdout",
     "output_type": "stream",
     "text": [
      "Epoch: 1600, Loss: 0.006643225438892841, Accuracy: 0.9991428852081299\n"
     ]
    },
    {
     "name": "stdout",
     "output_type": "stream",
     "text": [
      "Epoch: 1700, Loss: 0.006070674862712622, Accuracy: 0.9994285702705383\n"
     ]
    },
    {
     "name": "stdout",
     "output_type": "stream",
     "text": [
      "Epoch: 1800, Loss: 0.005565469153225422, Accuracy: 0.9994285702705383\n"
     ]
    },
    {
     "name": "stdout",
     "output_type": "stream",
     "text": [
      "Epoch: 1900, Loss: 0.005155201070010662, Accuracy: 0.9997143149375916\n"
     ]
    },
    {
     "name": "stdout",
     "output_type": "stream",
     "text": [
      "Epoch: 2000, Loss: 0.004704564809799194, Accuracy: 0.9997143149375916\n"
     ]
    },
    {
     "name": "stdout",
     "output_type": "stream",
     "text": [
      "Epoch: 2100, Loss: 0.004325475078076124, Accuracy: 0.9997143149375916\n"
     ]
    },
    {
     "name": "stdout",
     "output_type": "stream",
     "text": [
      "Epoch: 2200, Loss: 0.004013723693788052, Accuracy: 0.9997143149375916\n"
     ]
    },
    {
     "name": "stdout",
     "output_type": "stream",
     "text": [
      "Epoch: 2300, Loss: 0.003689131233841181, Accuracy: 0.9997143149375916\n"
     ]
    },
    {
     "name": "stdout",
     "output_type": "stream",
     "text": [
      "Epoch: 2400, Loss: 0.0034500618930906057, Accuracy: 0.9997143149375916\n"
     ]
    },
    {
     "name": "stdout",
     "output_type": "stream",
     "text": [
      "Epoch: 2500, Loss: 0.003171861870214343, Accuracy: 0.9997143149375916\n"
     ]
    },
    {
     "name": "stdout",
     "output_type": "stream",
     "text": [
      "Epoch: 2600, Loss: 0.002954646712169051, Accuracy: 0.9997143149375916\n"
     ]
    },
    {
     "name": "stdout",
     "output_type": "stream",
     "text": [
      "Epoch: 2700, Loss: 0.0027418332174420357, Accuracy: 0.9997143149375916\n"
     ]
    },
    {
     "name": "stdout",
     "output_type": "stream",
     "text": [
      "Epoch: 2800, Loss: 0.002551731187850237, Accuracy: 0.9997143149375916\n"
     ]
    },
    {
     "name": "stdout",
     "output_type": "stream",
     "text": [
      "Epoch: 2900, Loss: 0.0024009651970118284, Accuracy: 0.9997143149375916\n"
     ]
    },
    {
     "name": "stdout",
     "output_type": "stream",
     "text": [
      "Epoch: 3000, Loss: 0.002276608720421791, Accuracy: 0.9997143149375916\n"
     ]
    },
    {
     "name": "stdout",
     "output_type": "stream",
     "text": [
      "Epoch: 3100, Loss: 0.002126588486135006, Accuracy: 0.9997143149375916\n"
     ]
    },
    {
     "name": "stdout",
     "output_type": "stream",
     "text": [
      "Epoch: 3200, Loss: 0.0019758448470383883, Accuracy: 0.9997143149375916\n"
     ]
    },
    {
     "name": "stdout",
     "output_type": "stream",
     "text": [
      "Epoch: 3300, Loss: 0.0018551741959527135, Accuracy: 0.9997143149375916\n"
     ]
    },
    {
     "name": "stdout",
     "output_type": "stream",
     "text": [
      "Epoch: 3400, Loss: 0.0017500171670690179, Accuracy: 0.9997143149375916\n"
     ]
    },
    {
     "name": "stdout",
     "output_type": "stream",
     "text": [
      "Epoch: 3500, Loss: 0.0016654175706207752, Accuracy: 0.9997143149375916\n"
     ]
    },
    {
     "name": "stdout",
     "output_type": "stream",
     "text": [
      "Epoch: 3600, Loss: 0.0015586927765980363, Accuracy: 0.9997143149375916\n"
     ]
    },
    {
     "name": "stdout",
     "output_type": "stream",
     "text": [
      "Epoch: 3700, Loss: 0.0014783251099288464, Accuracy: 0.9997143149375916\n"
     ]
    },
    {
     "name": "stdout",
     "output_type": "stream",
     "text": [
      "Epoch: 3800, Loss: 0.0014061449328437448, Accuracy: 0.9997143149375916\n"
     ]
    },
    {
     "name": "stdout",
     "output_type": "stream",
     "text": [
      "Epoch: 3900, Loss: 0.0013334822142496705, Accuracy: 0.9997143149375916\n"
     ]
    },
    {
     "name": "stdout",
     "output_type": "stream",
     "text": [
      "Epoch: 4000, Loss: 0.0012718620710074902, Accuracy: 0.9997143149375916\n"
     ]
    },
    {
     "name": "stdout",
     "output_type": "stream",
     "text": [
      "Epoch: 4100, Loss: 0.0012116561410948634, Accuracy: 0.9997143149375916\n"
     ]
    },
    {
     "name": "stdout",
     "output_type": "stream",
     "text": [
      "Epoch: 4200, Loss: 0.0011615937110036612, Accuracy: 0.9997143149375916\n"
     ]
    },
    {
     "name": "stdout",
     "output_type": "stream",
     "text": [
      "Epoch: 4300, Loss: 0.0011132045183330774, Accuracy: 0.9997143149375916\n"
     ]
    },
    {
     "name": "stdout",
     "output_type": "stream",
     "text": [
      "Epoch: 4400, Loss: 0.001074250671081245, Accuracy: 0.9997143149375916\n"
     ]
    },
    {
     "name": "stdout",
     "output_type": "stream",
     "text": [
      "Epoch: 4500, Loss: 0.0010223512072116137, Accuracy: 0.9997143149375916\n"
     ]
    },
    {
     "name": "stdout",
     "output_type": "stream",
     "text": [
      "Epoch: 4600, Loss: 0.000983184901997447, Accuracy: 0.9997143149375916\n"
     ]
    },
    {
     "name": "stdout",
     "output_type": "stream",
     "text": [
      "Epoch: 4700, Loss: 0.0009462120360694826, Accuracy: 0.9997143149375916\n"
     ]
    },
    {
     "name": "stdout",
     "output_type": "stream",
     "text": [
      "Epoch: 4800, Loss: 0.0009096175199374557, Accuracy: 0.9997143149375916\n"
     ]
    },
    {
     "name": "stdout",
     "output_type": "stream",
     "text": [
      "Epoch: 4900, Loss: 0.0008806558325886726, Accuracy: 0.9997143149375916\n"
     ]
    },
    {
     "name": "stdout",
     "output_type": "stream",
     "text": [
      "Epoch: 5000, Loss: 0.0008492278284393251, Accuracy: 0.9997143149375916\n"
     ]
    }
   ],
   "source": [
    "with tf.Session() as sess:\n",
    "    sess.run(init)\n",
    "    for epoch in range(1,n_epochs+1):\n",
    "        batches = grab_batches(trainData, trainTarget, batch_size)\n",
    "        for X_batch, y_batch in batches:\n",
    "            sess.run(training_step, feed_dict={X: X_batch, Y: y_batch})\n",
    "        if epoch % 100 == 0:\n",
    "            feed_dict ={X: trainData.reshape(-1,n_dim), Y: trainTarget}\n",
    "            train_loss, train_accuracy = sess.run([loss, accuracy], feed_dict)\n",
    "            train_accuracies.append(train_accuracy)\n",
    "            train_losses.append(train_loss)\n",
    "            print(\"Epoch: {}, Loss: {}, Accuracy: {}\".format(epoch, train_loss, train_accuracy))\n",
    "    valid_accuracy = sess.run(accuracy, feed_dict = {X: validData.reshape(-1,n_dim), Y: validTarget})\n",
    "    valid_accuracies.append(valid_accuracy)\n",
    "    test_accuracy = sess.run(accuracy, feed_dict = {X: testData.reshape(-1,n_dim), Y: testTarget})\n",
    "    test_accuracies.append(test_accuracy)"
   ]
  },
  {
   "cell_type": "code",
   "execution_count": 73,
   "metadata": {},
   "outputs": [
    {
     "name": "stdout",
     "output_type": "stream",
     "text": [
      "0.9997143\n",
      "0.99\n",
      "0.97931033\n"
     ]
    }
   ],
   "source": [
    "print(train_accuracies[-1])\n",
    "print(valid_accuracies[-1])\n",
    "print(test_accuracies[-1])"
   ]
  },
  {
   "cell_type": "markdown",
   "metadata": {},
   "source": [
    "#### Linear Regression"
   ]
  },
  {
   "cell_type": "code",
   "execution_count": 75,
   "metadata": {},
   "outputs": [],
   "source": [
    "X = tf.placeholder(tf.float32,[None,n_dim])\n",
    "Y = tf.placeholder(tf.float32,[None,1])\n",
    "W = tf.Variable(tf.random_normal((n_dim,1), stddev=1e-2))\n",
    "b = tf.Variable(tf.ones((1, 1)))"
   ]
  },
  {
   "cell_type": "code",
   "execution_count": 76,
   "metadata": {},
   "outputs": [],
   "source": [
    "y_ = tf.matmul(X, W) + b\n",
    "\n",
    "loss = tf.reduce_mean(tf.squared_difference(y_, Y))\n",
    "\n",
    "prediction = tf.cast(tf.round(tf.sigmoid(y_)), tf.int8)\n",
    "equality = tf.equal(prediction, tf.cast(Y, tf.int8))\n",
    "accuracy = tf.reduce_mean(tf.cast(equality, tf.float32))\n",
    "\n",
    "optimizer = tf.train.AdamOptimizer(learning_rate)\n",
    "training_step = optimizer.minimize(loss)\n",
    "init = tf.global_variables_initializer()"
   ]
  },
  {
   "cell_type": "code",
   "execution_count": 77,
   "metadata": {},
   "outputs": [],
   "source": [
    "linear_valid_accuracies = []\n",
    "linear_train_accuracies = []\n",
    "linear_test_accuracies = []\n",
    "linear_train_losses = []"
   ]
  },
  {
   "cell_type": "code",
   "execution_count": 78,
   "metadata": {},
   "outputs": [
    {
     "name": "stdout",
     "output_type": "stream",
     "text": [
      "Epoch: 100, Loss: 0.030623991042375565, Accuracy: 0.7365714311599731\n"
     ]
    },
    {
     "name": "stdout",
     "output_type": "stream",
     "text": [
      "Epoch: 200, Loss: 0.024440830573439598, Accuracy: 0.6828571557998657\n"
     ]
    },
    {
     "name": "stdout",
     "output_type": "stream",
     "text": [
      "Epoch: 300, Loss: 0.02294657751917839, Accuracy: 0.691428542137146\n"
     ]
    },
    {
     "name": "stdout",
     "output_type": "stream",
     "text": [
      "Epoch: 400, Loss: 0.02221796289086342, Accuracy: 0.6977142691612244\n"
     ]
    },
    {
     "name": "stdout",
     "output_type": "stream",
     "text": [
      "Epoch: 500, Loss: 0.02246835082769394, Accuracy: 0.6582857370376587\n"
     ]
    },
    {
     "name": "stdout",
     "output_type": "stream",
     "text": [
      "Epoch: 600, Loss: 0.021442057564854622, Accuracy: 0.7039999961853027\n"
     ]
    },
    {
     "name": "stdout",
     "output_type": "stream",
     "text": [
      "Epoch: 700, Loss: 0.021492915228009224, Accuracy: 0.671999990940094\n"
     ]
    },
    {
     "name": "stdout",
     "output_type": "stream",
     "text": [
      "Epoch: 800, Loss: 0.021573062986135483, Accuracy: 0.7488571405410767\n"
     ]
    },
    {
     "name": "stdout",
     "output_type": "stream",
     "text": [
      "Epoch: 900, Loss: 0.020901856943964958, Accuracy: 0.7197142839431763\n"
     ]
    },
    {
     "name": "stdout",
     "output_type": "stream",
     "text": [
      "Epoch: 1000, Loss: 0.02125111222267151, Accuracy: 0.6591428518295288\n"
     ]
    },
    {
     "name": "stdout",
     "output_type": "stream",
     "text": [
      "Epoch: 1100, Loss: 0.0208763275295496, Accuracy: 0.6454285979270935\n"
     ]
    },
    {
     "name": "stdout",
     "output_type": "stream",
     "text": [
      "Epoch: 1200, Loss: 0.02026202529668808, Accuracy: 0.6977142691612244\n"
     ]
    },
    {
     "name": "stdout",
     "output_type": "stream",
     "text": [
      "Epoch: 1300, Loss: 0.020163381472229958, Accuracy: 0.6877142786979675\n"
     ]
    },
    {
     "name": "stdout",
     "output_type": "stream",
     "text": [
      "Epoch: 1400, Loss: 0.020184937864542007, Accuracy: 0.7225714325904846\n"
     ]
    },
    {
     "name": "stdout",
     "output_type": "stream",
     "text": [
      "Epoch: 1500, Loss: 0.020268211141228676, Accuracy: 0.6919999718666077\n"
     ]
    },
    {
     "name": "stdout",
     "output_type": "stream",
     "text": [
      "Epoch: 1600, Loss: 0.02035810984671116, Accuracy: 0.6502857208251953\n"
     ]
    },
    {
     "name": "stdout",
     "output_type": "stream",
     "text": [
      "Epoch: 1700, Loss: 0.020068993791937828, Accuracy: 0.7371428608894348\n"
     ]
    },
    {
     "name": "stdout",
     "output_type": "stream",
     "text": [
      "Epoch: 1800, Loss: 0.019939791411161423, Accuracy: 0.6991428732872009\n"
     ]
    },
    {
     "name": "stdout",
     "output_type": "stream",
     "text": [
      "Epoch: 1900, Loss: 0.019913896918296814, Accuracy: 0.6622856855392456\n"
     ]
    },
    {
     "name": "stdout",
     "output_type": "stream",
     "text": [
      "Epoch: 2000, Loss: 0.019995063543319702, Accuracy: 0.6648571491241455\n"
     ]
    },
    {
     "name": "stdout",
     "output_type": "stream",
     "text": [
      "Epoch: 2100, Loss: 0.019625255838036537, Accuracy: 0.6905714273452759\n"
     ]
    },
    {
     "name": "stdout",
     "output_type": "stream",
     "text": [
      "Epoch: 2200, Loss: 0.019948935136198997, Accuracy: 0.7374285459518433\n"
     ]
    },
    {
     "name": "stdout",
     "output_type": "stream",
     "text": [
      "Epoch: 2300, Loss: 0.019613875076174736, Accuracy: 0.6782857179641724\n"
     ]
    },
    {
     "name": "stdout",
     "output_type": "stream",
     "text": [
      "Epoch: 2400, Loss: 0.019735954701900482, Accuracy: 0.7348571419715881\n"
     ]
    },
    {
     "name": "stdout",
     "output_type": "stream",
     "text": [
      "Epoch: 2500, Loss: 0.01987522654235363, Accuracy: 0.74657142162323\n"
     ]
    },
    {
     "name": "stdout",
     "output_type": "stream",
     "text": [
      "Epoch: 2600, Loss: 0.020254317671060562, Accuracy: 0.7597143054008484\n"
     ]
    },
    {
     "name": "stdout",
     "output_type": "stream",
     "text": [
      "Epoch: 2700, Loss: 0.01966319978237152, Accuracy: 0.6600000262260437\n"
     ]
    },
    {
     "name": "stdout",
     "output_type": "stream",
     "text": [
      "Epoch: 2800, Loss: 0.01980878785252571, Accuracy: 0.7411428689956665\n"
     ]
    },
    {
     "name": "stdout",
     "output_type": "stream",
     "text": [
      "Epoch: 2900, Loss: 0.020161401480436325, Accuracy: 0.7574285864830017\n"
     ]
    },
    {
     "name": "stdout",
     "output_type": "stream",
     "text": [
      "Epoch: 3000, Loss: 0.019471583887934685, Accuracy: 0.7368571162223816\n"
     ]
    },
    {
     "name": "stdout",
     "output_type": "stream",
     "text": [
      "Epoch: 3100, Loss: 0.019525133073329926, Accuracy: 0.7277143001556396\n"
     ]
    },
    {
     "name": "stdout",
     "output_type": "stream",
     "text": [
      "Epoch: 3200, Loss: 0.021427953615784645, Accuracy: 0.6119999885559082\n"
     ]
    },
    {
     "name": "stdout",
     "output_type": "stream",
     "text": [
      "Epoch: 3300, Loss: 0.01954702101647854, Accuracy: 0.6731428503990173\n"
     ]
    },
    {
     "name": "stdout",
     "output_type": "stream",
     "text": [
      "Epoch: 3400, Loss: 0.020029546692967415, Accuracy: 0.6411428451538086\n"
     ]
    },
    {
     "name": "stdout",
     "output_type": "stream",
     "text": [
      "Epoch: 3500, Loss: 0.019950363785028458, Accuracy: 0.6579999923706055\n"
     ]
    },
    {
     "name": "stdout",
     "output_type": "stream",
     "text": [
      "Epoch: 3600, Loss: 0.01940356194972992, Accuracy: 0.6722857356071472\n"
     ]
    },
    {
     "name": "stdout",
     "output_type": "stream",
     "text": [
      "Epoch: 3700, Loss: 0.01917743869125843, Accuracy: 0.7108571529388428\n"
     ]
    },
    {
     "name": "stdout",
     "output_type": "stream",
     "text": [
      "Epoch: 3800, Loss: 0.019165372475981712, Accuracy: 0.7085714340209961\n"
     ]
    },
    {
     "name": "stdout",
     "output_type": "stream",
     "text": [
      "Epoch: 3900, Loss: 0.019259365275502205, Accuracy: 0.7177143096923828\n"
     ]
    },
    {
     "name": "stdout",
     "output_type": "stream",
     "text": [
      "Epoch: 4000, Loss: 0.01937936805188656, Accuracy: 0.7300000190734863\n"
     ]
    },
    {
     "name": "stdout",
     "output_type": "stream",
     "text": [
      "Epoch: 4100, Loss: 0.019908418878912926, Accuracy: 0.7574285864830017\n"
     ]
    },
    {
     "name": "stdout",
     "output_type": "stream",
     "text": [
      "Epoch: 4200, Loss: 0.019281424582004547, Accuracy: 0.6740000247955322\n"
     ]
    },
    {
     "name": "stdout",
     "output_type": "stream",
     "text": [
      "Epoch: 4300, Loss: 0.020825697109103203, Accuracy: 0.654285728931427\n"
     ]
    },
    {
     "name": "stdout",
     "output_type": "stream",
     "text": [
      "Epoch: 4400, Loss: 0.019585059955716133, Accuracy: 0.7300000190734863\n"
     ]
    },
    {
     "name": "stdout",
     "output_type": "stream",
     "text": [
      "Epoch: 4500, Loss: 0.020871752873063087, Accuracy: 0.7837142944335938\n"
     ]
    },
    {
     "name": "stdout",
     "output_type": "stream",
     "text": [
      "Epoch: 4600, Loss: 0.019092479720711708, Accuracy: 0.7239999771118164\n"
     ]
    },
    {
     "name": "stdout",
     "output_type": "stream",
     "text": [
      "Epoch: 4700, Loss: 0.01922706887125969, Accuracy: 0.6905714273452759\n"
     ]
    },
    {
     "name": "stdout",
     "output_type": "stream",
     "text": [
      "Epoch: 4800, Loss: 0.019711747765541077, Accuracy: 0.6565714478492737\n"
     ]
    },
    {
     "name": "stdout",
     "output_type": "stream",
     "text": [
      "Epoch: 4900, Loss: 0.0191863551735878, Accuracy: 0.7134285569190979\n"
     ]
    },
    {
     "name": "stdout",
     "output_type": "stream",
     "text": [
      "Epoch: 5000, Loss: 0.019247431308031082, Accuracy: 0.7248571515083313\n"
     ]
    }
   ],
   "source": [
    "with tf.Session() as sess:\n",
    "    sess.run(init)\n",
    "    for epoch in range(1,n_epochs+1):\n",
    "        batches = grab_batches(trainData, trainTarget, batch_size)\n",
    "        for X_batch, y_batch in batches:\n",
    "            sess.run(training_step, feed_dict={X: X_batch, Y: y_batch})\n",
    "        if epoch % 100 == 0:\n",
    "            feed_dict ={X: trainData.reshape(-1,n_dim), Y: trainTarget}\n",
    "            train_loss, train_accuracy = sess.run([loss, accuracy], feed_dict)\n",
    "            linear_train_accuracies.append(train_accuracy)\n",
    "            linear_train_losses.append(train_loss)\n",
    "            print(\"Epoch: {}, Loss: {}, Accuracy: {}\".format(epoch, train_loss, train_accuracy))\n",
    "    valid_accuracy = sess.run(accuracy, feed_dict = {X: validData.reshape(-1,n_dim), Y: validTarget})\n",
    "    linear_valid_accuracies.append(valid_accuracy)\n",
    "    test_accuracy = sess.run(accuracy, feed_dict = {X: testData.reshape(-1,n_dim), Y: testTarget})\n",
    "    linear_test_accuracies.append(test_accuracy)"
   ]
  },
  {
   "cell_type": "code",
   "execution_count": 80,
   "metadata": {},
   "outputs": [
    {
     "data": {
      "image/png": "[encoded data removed]",
      "text/plain": [
       "<Figure size 864x648 with 1 Axes>"
      ]
     },
     "metadata": {},
     "output_type": "display_data"
    }
   ],
   "source": [
    "epochs = range(1,5001,100)\n",
    "plt.figure(figsize=(12,9))\n",
    "plt.title('Comparing Learning Curves for Cross Entropy and MSE Loss')\n",
    "plt.plot(epochs, linear_train_losses, label='MSE')\n",
    "plt.plot(epochs, train_losses, label='Cross Entropy')\n",
    "plt.legend()\n",
    "plt.xlabel('Epoch')\n",
    "plt.ylabel('Loss')\n",
    "plt.savefig('figures/xentropy_mse.png', dpi=300, bbox_inches='tight')"
   ]
  },
  {
   "cell_type": "markdown",
   "metadata": {},
   "source": [
    "Plotting Xentropy and MSE Loss as a function of the prediction between 0 and 1 for dummy target of 0."
   ]
  },
  {
   "cell_type": "code",
   "execution_count": 47,
   "metadata": {},
   "outputs": [],
   "source": [
    "probs = np.linspace(0, 1, num=100)\n",
    "epsilon = 1e-12\n",
    "target = np.zeros_like(probs)\n",
    "\n",
    "xentropy = -(target*np.log(probs + epsilon) + (1 - target) * np.log(1 - probs + epsilon))\n",
    "MSE = (1/2)*np.square(probs - target)"
   ]
  },
  {
   "cell_type": "code",
   "execution_count": 51,
   "metadata": {},
   "outputs": [
    {
     "data": {
      "image/png": "[encoded data removed]",
      "text/plain": [
       "<Figure size 864x648 with 1 Axes>"
      ]
     },
     "metadata": {},
     "output_type": "display_data"
    }
   ],
   "source": [
    "plt.figure(figsize=(12,9))\n",
    "plt.title('Comparing Loss Curves for a Target of 0, Large Scale')\n",
    "plt.plot(probs, MSE, label='MSE')\n",
    "plt.plot(probs, xentropy, label='Cross Entropy')\n",
    "plt.legend()\n",
    "plt.xlabel('Prediction')\n",
    "plt.ylabel('Loss')\n",
    "plt.savefig('figures/xentropy_mse_losscurve_large.png', dpi=300, bbox_inches='tight')"
   ]
  },
  {
   "cell_type": "code",
   "execution_count": 55,
   "metadata": {},
   "outputs": [
    {
     "data": {
      "image/png": "[encoded data removed]",
      "text/plain": [
       "<Figure size 864x648 with 1 Axes>"
      ]
     },
     "metadata": {},
     "output_type": "display_data"
    }
   ],
   "source": [
    "plt.figure(figsize=(12,9))\n",
    "plt.title('Comparing Loss Curves for a Target of 0, Small Scale')\n",
    "plt.plot(probs, MSE, label='MSE')\n",
    "plt.plot(probs, xentropy, label='Cross Entropy')\n",
    "plt.legend()\n",
    "plt.xlabel('Prediction')\n",
    "plt.ylabel('Loss')\n",
    "plt.ylim(0,0.1)\n",
    "plt.xlim(0,0.1)\n",
    "plt.savefig('figures/xentropy_mse_losscurve_small.png', dpi=300, bbox_inches='tight')"
   ]
  },
  {
   "cell_type": "code",
   "execution_count": null,
   "metadata": {},
   "outputs": [],
   "source": []
  }
 ],
 "metadata": {
  "kernelspec": {
   "display_name": "Python 3",
   "language": "python",
   "name": "python3"
  },
  "language_info": {
   "codemirror_mode": {
    "name": "ipython",
    "version": 3
   },
   "file_extension": ".py",
   "mimetype": "text/x-python",
   "name": "python",
   "nbconvert_exporter": "python",
   "pygments_lexer": "ipython3",
   "version": "3.6.4"
  }
 },
 "nbformat": 4,
 "nbformat_minor": 2
}
