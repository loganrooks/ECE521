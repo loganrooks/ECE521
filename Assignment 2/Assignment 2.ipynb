{
 "cells": [
  {
   "cell_type": "code",
   "execution_count": 1,
   "metadata": {},
   "outputs": [],
   "source": [
    "import tensorflow as tf\n",
    "import numpy as np\n",
    "import matplotlib.pyplot as plt\n",
    "%matplotlib inline"
   ]
  },
  {
   "cell_type": "code",
   "execution_count": 2,
   "metadata": {},
   "outputs": [],
   "source": [
    "from tensorflow.python.client import device_lib\n",
    "\n",
    "def get_available_gpus():\n",
    "    local_device_protos = device_lib.list_local_devices()\n",
    "    return [x.name for x in local_device_protos if x.device_type == 'GPU']"
   ]
  },
  {
   "cell_type": "code",
   "execution_count": 3,
   "metadata": {},
   "outputs": [
    {
     "data": {
      "text/plain": [
       "['/device:GPU:0']"
      ]
     },
     "execution_count": 3,
     "metadata": {},
     "output_type": "execute_result"
    }
   ],
   "source": [
    "get_available_gpus()"
   ]
  },
  {
   "cell_type": "code",
   "execution_count": 4,
   "metadata": {},
   "outputs": [],
   "source": [
    "with np.load(\"notMNIST.npz\") as data :\n",
    "    Data, Target = data [\"images\"], data[\"labels\"]\n",
    "    posClass = 2\n",
    "    negClass = 9\n",
    "    dataIndx = (Target==posClass) + (Target==negClass)\n",
    "    Data = Data[dataIndx]/255.\n",
    "    Target = Target[dataIndx].reshape(-1, 1)\n",
    "    Target[Target==posClass] = 1\n",
    "    Target[Target==negClass] = 0\n",
    "    np.random.seed(521)\n",
    "    randIndx = np.arange(len(Data))\n",
    "    np.random.shuffle(randIndx)\n",
    "    Data, Target = Data[randIndx], Target[randIndx]\n",
    "    trainData, trainTarget = Data[:3500], Target[:3500]\n",
    "    validData, validTarget = Data[3500:3600], Target[3500:3600]\n",
    "    testData, testTarget = Data[3600:], Target[3600:]"
   ]
  },
  {
   "cell_type": "code",
   "execution_count": 5,
   "metadata": {},
   "outputs": [],
   "source": [
    "learning_rate = 0.005\n",
    "n_epochs = 11\n",
    "batch_size = 500\n",
    "n_dim = 28*28"
   ]
  },
  {
   "cell_type": "code",
   "execution_count": 6,
   "metadata": {},
   "outputs": [],
   "source": [
    "def grab_batches(trainData, trainTarget, batch_size):\n",
    "    batch_indices = np.random.permutation(range(3500)).reshape(-1, batch_size)\n",
    "    X_batches = trainData.reshape(-1, n_dim)[batch_indices]\n",
    "    y_batches = trainTarget[batch_indices]\n",
    "    batches = zip(X_batches, y_batches)\n",
    "    return batches"
   ]
  },
  {
   "cell_type": "code",
   "execution_count": 97,
   "metadata": {},
   "outputs": [],
   "source": [
    "X = tf.placeholder(tf.float32,[None,n_dim])\n",
    "Y = tf.placeholder(tf.float32,[None,1])\n",
    "W = tf.Variable(tf.ones([n_dim,1]))\n",
    "weight_decay = tf.placeholder(tf.float32)"
   ]
  },
  {
   "cell_type": "code",
   "execution_count": 98,
   "metadata": {},
   "outputs": [],
   "source": [
    "y_ = tf.matmul(X, W)\n",
    "\n",
    "loss = tf.reduce_mean(tf.squared_difference(y_, Y))\n",
    "regularizer = tf.nn.l2_loss(W)\n",
    "loss = tf.reduce_mean(loss + weight_decay * regularizer)\n",
    "\n",
    "prediction = tf.cast(tf.round(tf.sigmoid(y_)), tf.int8)\n",
    "equality = tf.equal(prediction, tf.cast(Y, tf.int8))\n",
    "accuracy = tf.reduce_mean(tf.cast(equality, tf.float32))\n",
    "\n",
    "training_step = tf.train.GradientDescentOptimizer(learning_rate).minimize(loss)\n",
    "init = tf.global_variables_initializer()"
   ]
  },
  {
   "cell_type": "code",
   "execution_count": 99,
   "metadata": {},
   "outputs": [],
   "source": [
    "weight_decays = [0.0, 0.001, 0.1, 1]\n",
    "valid_accuracies = []\n",
    "train_accuracies = []\n",
    "test_accuracies = []"
   ]
  },
  {
   "cell_type": "code",
   "execution_count": 100,
   "metadata": {},
   "outputs": [
    {
     "name": "stdout",
     "output_type": "stream",
     "text": [
      "Weight Decay: 0.0 \n",
      "\n",
      "Epoch: 1, Loss: 240.92306518554688, Accuracy: 0.5271428823471069\n",
      "Epoch: 2, Loss: 126.56452941894531, Accuracy: 0.5448571443557739\n",
      "Epoch: 3, Loss: 74.89666748046875, Accuracy: 0.5462856888771057\n",
      "Epoch: 4, Loss: 48.912418365478516, Accuracy: 0.5337142944335938\n",
      "Epoch: 5, Loss: 33.4633903503418, Accuracy: 0.5308571457862854\n",
      "Epoch: 6, Loss: 24.151487350463867, Accuracy: 0.5402857065200806\n",
      "Epoch: 7, Loss: 18.263916015625, Accuracy: 0.5488571524620056\n",
      "Epoch: 8, Loss: 14.125530242919922, Accuracy: 0.5608571171760559\n",
      "Epoch: 9, Loss: 11.208854675292969, Accuracy: 0.5805714130401611\n",
      "Epoch: 10, Loss: 9.109009742736816, Accuracy: 0.5688571333885193\n",
      "Epoch: 11, Loss: 7.516256809234619, Accuracy: 0.5854285955429077\n"
     ]
    }
   ],
   "source": [
    "weight_decays = [0.0]\n",
    "with tf.Session() as sess:\n",
    "    for wd in weight_decays:\n",
    "        sess.run(init)\n",
    "        print(\"Weight Decay: {} \\n\".format(wd))\n",
    "        for epoch in range(1,n_epochs+1):\n",
    "            batches = grab_batches(trainData, trainTarget, batch_size)\n",
    "            for X_batch, y_batch in batches:\n",
    "                sess.run(training_step, feed_dict={X: X_batch, Y: y_batch, weight_decay: wd})\n",
    "            if epoch % 1 == 0:\n",
    "                feed_dict ={X: trainData.reshape(-1,n_dim), Y: trainTarget, weight_decay: wd}\n",
    "                train_loss, train_accuracy = sess.run([loss, accuracy], feed_dict)\n",
    "                print(\"Epoch: {}, Loss: {}, Accuracy: {}\".format(epoch, train_loss, train_accuracy))\n",
    "        train_accuracies.append(train_accuracy)\n",
    "        valid_accuracy = sess.run(accuracy, feed_dict = {X: validData.reshape(-1,n_dim), Y: validTarget})\n",
    "        valid_accuracies.append(valid_accuracy)\n",
    "        test_accuracy = sess.run(accuracy, feed_dict = {X: testData.reshape(-1,n_dim), Y: testTarget})\n",
    "        test_accuracies.append(test_accuracy)"
   ]
  },
  {
   "cell_type": "code",
   "execution_count": 22,
   "metadata": {},
   "outputs": [
    {
     "data": {
      "text/plain": [
       "[0.73, 0.72, 0.67, 0.66]"
      ]
     },
     "execution_count": 22,
     "metadata": {},
     "output_type": "execute_result"
    }
   ],
   "source": [
    "valid_accuracies"
   ]
  },
  {
   "cell_type": "code",
   "execution_count": 101,
   "metadata": {},
   "outputs": [
    {
     "data": {
      "text/plain": [
       "[0.5854286]"
      ]
     },
     "execution_count": 101,
     "metadata": {},
     "output_type": "execute_result"
    }
   ],
   "source": [
    "train_accuracies"
   ]
  },
  {
   "cell_type": "code",
   "execution_count": 24,
   "metadata": {
    "scrolled": true
   },
   "outputs": [
    {
     "data": {
      "text/plain": [
       "[0.7862069, 0.7586207, 0.71034485, 0.7241379]"
      ]
     },
     "execution_count": 24,
     "metadata": {},
     "output_type": "execute_result"
    }
   ],
   "source": [
    "test_accuracies"
   ]
  },
  {
   "cell_type": "markdown",
   "metadata": {},
   "source": [
    "## Comparison SGD with Normal Equation"
   ]
  },
  {
   "cell_type": "code",
   "execution_count": 66,
   "metadata": {},
   "outputs": [],
   "source": [
    "def normal_equation():\n",
    "    X = tf.placeholder(tf.float32,[None,n_dim])\n",
    "    Y = tf.placeholder(tf.float32,[None,1])\n",
    "    X_train = tf.convert_to_tensor(trainData.reshape(-1,n_dim), dtype=tf.float32)\n",
    "    Y_train = tf.convert_to_tensor(trainTarget, dtype=tf.float32)\n",
    "    W = tf.matmul(tf.matrix_inverse(tf.matmul(tf.transpose(X_train),X_train)), tf.matmul(tf.transpose(X_train), Y_train))\n",
    "    y_ = tf.matmul(X, W)\n",
    "\n",
    "    loss = tf.reduce_mean(tf.squared_difference(y_, Y))\n",
    "\n",
    "    prediction = tf.cast(tf.round(tf.sigmoid(y_)), tf.int8)\n",
    "    equality = tf.equal(prediction, tf.cast(Y, tf.int8))\n",
    "    accuracy = tf.reduce_mean(tf.cast(equality, tf.float32))\n",
    "\n",
    "    init = tf.global_variables_initializer()\n",
    "    with tf.Session() as sess:\n",
    "        sess.run(init)\n",
    "        feed_dict ={X: trainData.reshape(-1,n_dim), Y: trainTarget}\n",
    "        train_metrics = sess.run([loss, accuracy], feed_dict)\n",
    "        valid_metrics = sess.run([loss, accuracy], {X: validData.reshape(-1,n_dim), Y: validTarget})\n",
    "        test_metrics = sess.run([loss, accuracy], {X: testData.reshape(-1,n_dim), Y: testTarget})\n",
    "        return train_metrics, valid_metrics, test_metrics"
   ]
  },
  {
   "cell_type": "code",
   "execution_count": 70,
   "metadata": {},
   "outputs": [
    {
     "data": {
      "text/plain": [
       "([0.023104576, 0.724], [0.045321163, 0.72], [0.073808014, 0.74482757])"
      ]
     },
     "execution_count": 70,
     "metadata": {},
     "output_type": "execute_result"
    }
   ],
   "source": [
    "normal_equation()"
   ]
  },
  {
   "cell_type": "code",
   "execution_count": 77,
   "metadata": {},
   "outputs": [],
   "source": [
    "def train():\n",
    "    with tf.Session() as sess:\n",
    "        sess.run(init)\n",
    "        for epoch in range(500):\n",
    "            batches = grab_batches(trainData, trainTarget, 500)\n",
    "            for X_batch, y_batch in batches:\n",
    "                sess.run(training_step, feed_dict={X: X_batch, Y: y_batch, weight_decay: 0.0})\n",
    "        "
   ]
  },
  {
   "cell_type": "code",
   "execution_count": 78,
   "metadata": {},
   "outputs": [
    {
     "name": "stdout",
     "output_type": "stream",
     "text": [
      "0.27119013060000724\n"
     ]
    }
   ],
   "source": [
    "import timeit\n",
    "time = timeit.timeit(stmt='normal_equation()', setup='from __main__ import normal_equation', number=10)/10\n",
    "print(time)"
   ]
  },
  {
   "cell_type": "code",
   "execution_count": 79,
   "metadata": {},
   "outputs": [
    {
     "name": "stdout",
     "output_type": "stream",
     "text": [
      "12.465035603899741\n"
     ]
    }
   ],
   "source": [
    "time = timeit.timeit('train()', setup='from __main__ import train', number=10)/10\n",
    "print(time)"
   ]
  },
  {
   "cell_type": "markdown",
   "metadata": {},
   "source": [
    "## 2.1.3 Comparison with Linear Regression"
   ]
  },
  {
   "cell_type": "markdown",
   "metadata": {},
   "source": [
    "#### Logistic Regression without Weight Decay"
   ]
  },
  {
   "cell_type": "code",
   "execution_count": 7,
   "metadata": {},
   "outputs": [],
   "source": [
    "learning_rate = 0.001\n",
    "n_epochs = 5000\n",
    "batch_size = 500\n",
    "n_dim = 28*28"
   ]
  },
  {
   "cell_type": "code",
   "execution_count": 20,
   "metadata": {},
   "outputs": [],
   "source": [
    "X = tf.placeholder(tf.float32,[None,n_dim])\n",
    "Y = tf.placeholder(tf.float32,[None,1])\n",
    "W = tf.Variable(tf.ones([n_dim,1]))"
   ]
  },
  {
   "cell_type": "code",
   "execution_count": null,
   "metadata": {},
   "outputs": [],
   "source": [
    "y_ = tf.matmul(X, W)\n",
    "\n",
    "loss = tf.reduce_mean(tf.nn.sigmoid_cross_entropy_with_logits(logits=y_, labels=Y))\n",
    "\n",
    "prediction = tf.cast(tf.round(tf.sigmoid(y_)), tf.int8)\n",
    "equality = tf.equal(prediction, tf.cast(Y, tf.int8))\n",
    "accuracy = tf.reduce_mean(tf.cast(equality, tf.float32))\n",
    "\n",
    "optimizer = tf.train.AdamOptimizer(learning_rate)\n",
    "training_step = optimizer.minimize(loss)\n",
    "init = tf.global_variables_initializer()"
   ]
  },
  {
   "cell_type": "code",
   "execution_count": 18,
   "metadata": {},
   "outputs": [],
   "source": [
    "valid_accuracies = []\n",
    "train_accuracies = []\n",
    "test_accuracies = []\n",
    "train_losses = []"
   ]
  },
  {
   "cell_type": "code",
   "execution_count": 19,
   "metadata": {},
   "outputs": [
    {
     "name": "stdout",
     "output_type": "stream",
     "text": [
      "Epoch: 100, Loss: 41.176368713378906, Accuracy: 0.501714289188385\n",
      "Epoch: 200, Loss: 0.07718716561794281, Accuracy: 0.9791428446769714\n",
      "Epoch: 300, Loss: 0.06196706369519234, Accuracy: 0.982285737991333\n",
      "Epoch: 400, Loss: 0.05501476302742958, Accuracy: 0.984000027179718\n",
      "Epoch: 500, Loss: 0.049847282469272614, Accuracy: 0.9851428866386414\n",
      "Epoch: 600, Loss: 0.04521753638982773, Accuracy: 0.9865714311599731\n",
      "Epoch: 700, Loss: 0.04090334102511406, Accuracy: 0.9874285459518433\n",
      "Epoch: 800, Loss: 0.03696061670780182, Accuracy: 0.9885714054107666\n",
      "Epoch: 900, Loss: 0.033365897834300995, Accuracy: 0.9897142648696899\n",
      "Epoch: 1000, Loss: 0.030084749683737755, Accuracy: 0.9908571243286133\n",
      "Epoch: 1100, Loss: 0.026978496462106705, Accuracy: 0.9925714135169983\n",
      "Epoch: 1200, Loss: 0.02410147525370121, Accuracy: 0.99314284324646\n",
      "Epoch: 1300, Loss: 0.021439407020807266, Accuracy: 0.9937142729759216\n",
      "Epoch: 1400, Loss: 0.019040139392018318, Accuracy: 0.994857132434845\n",
      "Epoch: 1500, Loss: 0.01691270060837269, Accuracy: 0.9959999918937683\n",
      "Epoch: 1600, Loss: 0.015025571919977665, Accuracy: 0.9959999918937683\n",
      "Epoch: 1700, Loss: 0.013405459001660347, Accuracy: 0.9968571662902832\n",
      "Epoch: 1800, Loss: 0.011954223737120628, Accuracy: 0.9977142810821533\n",
      "Epoch: 1900, Loss: 0.01072827447205782, Accuracy: 0.9980000257492065\n",
      "Epoch: 2000, Loss: 0.009674575179815292, Accuracy: 0.998285710811615\n",
      "Epoch: 2100, Loss: 0.008717878721654415, Accuracy: 0.998285710811615\n",
      "Epoch: 2200, Loss: 0.007901906967163086, Accuracy: 0.998285710811615\n",
      "Epoch: 2300, Loss: 0.007201697677373886, Accuracy: 0.9985714554786682\n",
      "Epoch: 2400, Loss: 0.006554097402840853, Accuracy: 0.9991428852081299\n",
      "Epoch: 2500, Loss: 0.00599322747439146, Accuracy: 0.9994285702705383\n",
      "Epoch: 2600, Loss: 0.005516391713172197, Accuracy: 0.9997143149375916\n",
      "Epoch: 2700, Loss: 0.0050472840666770935, Accuracy: 0.9997143149375916\n",
      "Epoch: 2800, Loss: 0.004651058930903673, Accuracy: 0.9997143149375916\n",
      "Epoch: 2900, Loss: 0.0042983777821063995, Accuracy: 0.9997143149375916\n",
      "Epoch: 3000, Loss: 0.00397071847692132, Accuracy: 0.9997143149375916\n",
      "Epoch: 3100, Loss: 0.0036583621986210346, Accuracy: 0.9997143149375916\n",
      "Epoch: 3200, Loss: 0.003391953418031335, Accuracy: 0.9997143149375916\n",
      "Epoch: 3300, Loss: 0.003137465100735426, Accuracy: 0.9997143149375916\n",
      "Epoch: 3400, Loss: 0.0029602530412375927, Accuracy: 0.9997143149375916\n",
      "Epoch: 3500, Loss: 0.0027127275243401527, Accuracy: 0.9997143149375916\n",
      "Epoch: 3600, Loss: 0.002525279065594077, Accuracy: 0.9997143149375916\n",
      "Epoch: 3700, Loss: 0.002358154859393835, Accuracy: 0.9997143149375916\n",
      "Epoch: 3800, Loss: 0.002208561170846224, Accuracy: 0.9997143149375916\n",
      "Epoch: 3900, Loss: 0.00209671538323164, Accuracy: 0.9997143149375916\n",
      "Epoch: 4000, Loss: 0.0019505267264321446, Accuracy: 0.9997143149375916\n",
      "Epoch: 4100, Loss: 0.0018299968214705586, Accuracy: 0.9997143149375916\n",
      "Epoch: 4200, Loss: 0.001736022182740271, Accuracy: 0.9997143149375916\n",
      "Epoch: 4300, Loss: 0.0016407361254096031, Accuracy: 0.9997143149375916\n",
      "Epoch: 4400, Loss: 0.0015384969301521778, Accuracy: 0.9997143149375916\n",
      "Epoch: 4500, Loss: 0.0014596913242712617, Accuracy: 0.9997143149375916\n",
      "Epoch: 4600, Loss: 0.0013857930898666382, Accuracy: 0.9997143149375916\n",
      "Epoch: 4700, Loss: 0.0013173099141567945, Accuracy: 0.9997143149375916\n",
      "Epoch: 4800, Loss: 0.0012542768381536007, Accuracy: 0.9997143149375916\n",
      "Epoch: 4900, Loss: 0.001198252779431641, Accuracy: 0.9997143149375916\n",
      "Epoch: 5000, Loss: 0.0011522803688421845, Accuracy: 0.9997143149375916\n"
     ]
    }
   ],
   "source": [
    "with tf.Session() as sess:\n",
    "    sess.run(init)\n",
    "    for epoch in range(1,n_epochs+1):\n",
    "        batches = grab_batches(trainData, trainTarget, batch_size)\n",
    "        for X_batch, y_batch in batches:\n",
    "            sess.run(training_step, feed_dict={X: X_batch, Y: y_batch})\n",
    "        if epoch % 100 == 0:\n",
    "            feed_dict ={X: trainData.reshape(-1,n_dim), Y: trainTarget}\n",
    "            train_loss, train_accuracy = sess.run([loss, accuracy], feed_dict)\n",
    "            train_accuracies.append(train_accuracy)\n",
    "            train_losses.append(train_loss)\n",
    "            print(\"Epoch: {}, Loss: {}, Accuracy: {}\".format(epoch, train_loss, train_accuracy))\n",
    "    valid_accuracy = sess.run(accuracy, feed_dict = {X: validData.reshape(-1,n_dim), Y: validTarget})\n",
    "    valid_accuracies.append(valid_accuracy)\n",
    "    test_accuracy = sess.run(accuracy, feed_dict = {X: testData.reshape(-1,n_dim), Y: testTarget})\n",
    "    test_accuracies.append(test_accuracy)"
   ]
  },
  {
   "cell_type": "code",
   "execution_count": 73,
   "metadata": {},
   "outputs": [
    {
     "name": "stdout",
     "output_type": "stream",
     "text": [
      "0.9997143\n",
      "0.99\n",
      "0.97931033\n"
     ]
    }
   ],
   "source": [
    "print(train_accuracies[-1])\n",
    "print(valid_accuracies[-1])\n",
    "print(test_accuracies[-1])"
   ]
  },
  {
   "cell_type": "markdown",
   "metadata": {},
   "source": [
    "#### Linear Regression"
   ]
  },
  {
   "cell_type": "code",
   "execution_count": 27,
   "metadata": {},
   "outputs": [],
   "source": [
    "X = tf.placeholder(tf.float32,[None,n_dim])\n",
    "Y = tf.placeholder(tf.float32,[None,1])\n",
    "W = tf.Variable(tf.ones([n_dim,1]))"
   ]
  },
  {
   "cell_type": "code",
   "execution_count": 28,
   "metadata": {},
   "outputs": [],
   "source": [
    "y_ = tf.matmul(X, W)\n",
    "\n",
    "loss = tf.reduce_mean(tf.squared_difference(y_, Y))\n",
    "\n",
    "prediction = tf.cast(tf.round(tf.sigmoid(y_)), tf.int8)\n",
    "equality = tf.equal(prediction, tf.cast(Y, tf.int8))\n",
    "accuracy = tf.reduce_mean(tf.cast(equality, tf.float32))\n",
    "\n",
    "optimizer = tf.train.AdamOptimizer(learning_rate)\n",
    "training_step = optimizer.minimize(loss)\n",
    "init = tf.global_variables_initializer()"
   ]
  },
  {
   "cell_type": "code",
   "execution_count": 29,
   "metadata": {},
   "outputs": [],
   "source": [
    "linear_valid_accuracies = []\n",
    "linear_train_accuracies = []\n",
    "linear_test_accuracies = []\n",
    "linear_train_losses = []"
   ]
  },
  {
   "cell_type": "code",
   "execution_count": 30,
   "metadata": {},
   "outputs": [
    {
     "name": "stdout",
     "output_type": "stream",
     "text": [
      "Epoch: 100, Loss: 15978.5302734375, Accuracy: 0.501714289188385\n",
      "Epoch: 200, Loss: 1142.592529296875, Accuracy: 0.501714289188385\n",
      "Epoch: 300, Loss: 19.21613883972168, Accuracy: 0.501714289188385\n",
      "Epoch: 400, Loss: 0.12679937481880188, Accuracy: 0.501714289188385\n",
      "Epoch: 500, Loss: 0.06903783977031708, Accuracy: 0.7365714311599731\n",
      "Epoch: 600, Loss: 0.059557490050792694, Accuracy: 0.744857132434845\n",
      "Epoch: 700, Loss: 0.05367717519402504, Accuracy: 0.730571448802948\n",
      "Epoch: 800, Loss: 0.04996129497885704, Accuracy: 0.7134285569190979\n",
      "Epoch: 900, Loss: 0.04728240147233009, Accuracy: 0.7071428298950195\n",
      "Epoch: 1000, Loss: 0.045112788677215576, Accuracy: 0.702571451663971\n",
      "Epoch: 1100, Loss: 0.04331653192639351, Accuracy: 0.696571409702301\n",
      "Epoch: 1200, Loss: 0.0418303906917572, Accuracy: 0.694857120513916\n",
      "Epoch: 1300, Loss: 0.04056999087333679, Accuracy: 0.6934285759925842\n",
      "Epoch: 1400, Loss: 0.03944757208228111, Accuracy: 0.6945714354515076\n",
      "Epoch: 1500, Loss: 0.038397181779146194, Accuracy: 0.7005714178085327\n",
      "Epoch: 1600, Loss: 0.03738376125693321, Accuracy: 0.6985714435577393\n",
      "Epoch: 1700, Loss: 0.03639353811740875, Accuracy: 0.7037143111228943\n",
      "Epoch: 1800, Loss: 0.03542235493659973, Accuracy: 0.698285698890686\n",
      "Epoch: 1900, Loss: 0.034466296434402466, Accuracy: 0.7080000042915344\n",
      "Epoch: 2000, Loss: 0.03350989893078804, Accuracy: 0.6985714435577393\n",
      "Epoch: 2100, Loss: 0.032600995153188705, Accuracy: 0.7262856960296631\n",
      "Epoch: 2200, Loss: 0.031698744744062424, Accuracy: 0.7222856879234314\n",
      "Epoch: 2300, Loss: 0.030752863734960556, Accuracy: 0.7122856974601746\n",
      "Epoch: 2400, Loss: 0.03021872788667679, Accuracy: 0.7577142715454102\n",
      "Epoch: 2500, Loss: 0.029169602319598198, Accuracy: 0.6877142786979675\n",
      "Epoch: 2600, Loss: 0.028459561988711357, Accuracy: 0.7362856864929199\n",
      "Epoch: 2700, Loss: 0.027691638097167015, Accuracy: 0.7422857284545898\n",
      "Epoch: 2800, Loss: 0.02759695053100586, Accuracy: 0.7599999904632568\n",
      "Epoch: 2900, Loss: 0.026583967730402946, Accuracy: 0.7114285826683044\n",
      "Epoch: 3000, Loss: 0.027977420017123222, Accuracy: 0.6494285464286804\n",
      "Epoch: 3100, Loss: 0.026457101106643677, Accuracy: 0.704285740852356\n",
      "Epoch: 3200, Loss: 0.026885738596320152, Accuracy: 0.6417142748832703\n",
      "Epoch: 3300, Loss: 0.02574858069419861, Accuracy: 0.6802856922149658\n",
      "Epoch: 3400, Loss: 0.02641649730503559, Accuracy: 0.8025714159011841\n",
      "Epoch: 3500, Loss: 0.025674451142549515, Accuracy: 0.7477142810821533\n",
      "Epoch: 3600, Loss: 0.024914147332310677, Accuracy: 0.7274285554885864\n",
      "Epoch: 3700, Loss: 0.02554481104016304, Accuracy: 0.7582857012748718\n",
      "Epoch: 3800, Loss: 0.027721548452973366, Accuracy: 0.8119999766349792\n",
      "Epoch: 3900, Loss: 0.02587025612592697, Accuracy: 0.6460000276565552\n",
      "Epoch: 4000, Loss: 0.024726781994104385, Accuracy: 0.7680000066757202\n",
      "Epoch: 4100, Loss: 0.0247544776648283, Accuracy: 0.7594285607337952\n",
      "Epoch: 4200, Loss: 0.024334782734513283, Accuracy: 0.7179999947547913\n",
      "Epoch: 4300, Loss: 0.0244965311139822, Accuracy: 0.7114285826683044\n",
      "Epoch: 4400, Loss: 0.02437477931380272, Accuracy: 0.6991428732872009\n",
      "Epoch: 4500, Loss: 0.02429131418466568, Accuracy: 0.7528571486473083\n",
      "Epoch: 4600, Loss: 0.02501543238759041, Accuracy: 0.7917143106460571\n",
      "Epoch: 4700, Loss: 0.027327843010425568, Accuracy: 0.618571400642395\n",
      "Epoch: 4800, Loss: 0.024120965972542763, Accuracy: 0.7222856879234314\n",
      "Epoch: 4900, Loss: 0.024187296628952026, Accuracy: 0.7362856864929199\n",
      "Epoch: 5000, Loss: 0.023999538272619247, Accuracy: 0.6971428394317627\n"
     ]
    }
   ],
   "source": [
    "with tf.Session() as sess:\n",
    "    sess.run(init)\n",
    "    for epoch in range(1,n_epochs+1):\n",
    "        batches = grab_batches(trainData, trainTarget, batch_size)\n",
    "        for X_batch, y_batch in batches:\n",
    "            sess.run(training_step, feed_dict={X: X_batch, Y: y_batch})\n",
    "        if epoch % 100 == 0:\n",
    "            feed_dict ={X: trainData.reshape(-1,n_dim), Y: trainTarget}\n",
    "            train_loss, train_accuracy = sess.run([loss, accuracy], feed_dict)\n",
    "            linear_train_accuracies.append(train_accuracy)\n",
    "            linear_train_losses.append(train_loss)\n",
    "            print(\"Epoch: {}, Loss: {}, Accuracy: {}\".format(epoch, train_loss, train_accuracy))\n",
    "    valid_accuracy = sess.run(accuracy, feed_dict = {X: validData.reshape(-1,n_dim), Y: validTarget})\n",
    "    linear_valid_accuracies.append(valid_accuracy)\n",
    "    test_accuracy = sess.run(accuracy, feed_dict = {X: testData.reshape(-1,n_dim), Y: testTarget})\n",
    "    linear_test_accuracies.append(test_accuracy)"
   ]
  },
  {
   "cell_type": "code",
   "execution_count": 39,
   "metadata": {},
   "outputs": [
    {
     "data": {
      "image/png": "[encoded data removed]",
      "text/plain": [
       "<Figure size 864x648 with 1 Axes>"
      ]
     },
     "metadata": {},
     "output_type": "display_data"
    }
   ],
   "source": [
    "epochs = range(1,5001,100)\n",
    "plt.figure(figsize=(12,9))\n",
    "plt.title('Comparing Learning Curves for Cross Entropy and MSE Loss')\n",
    "plt.plot(epochs, linear_train_losses, label='MSE')\n",
    "plt.plot(epochs, train_losses, label='Cross Entropy')\n",
    "plt.legend()\n",
    "plt.xlabel('Epoch')\n",
    "plt.ylabel('Loss')\n",
    "plt.ylim(0, 0.1)\n",
    "plt.savefig('figures/xentropy_mse.png', dpi=300, bbox_inches='tight')"
   ]
  },
  {
   "cell_type": "markdown",
   "metadata": {},
   "source": [
    "Plotting Xentropy and MSE Loss as a function of the prediction between 0 and 1 for dummy target of 0."
   ]
  },
  {
   "cell_type": "code",
   "execution_count": 47,
   "metadata": {},
   "outputs": [],
   "source": [
    "probs = np.linspace(0, 1, num=100)\n",
    "epsilon = 1e-12\n",
    "target = np.zeros_like(probs)\n",
    "\n",
    "xentropy = -(target*np.log(probs + epsilon) + (1 - target) * np.log(1 - probs + epsilon))\n",
    "MSE = (1/2)*np.square(probs - target)"
   ]
  },
  {
   "cell_type": "code",
   "execution_count": 51,
   "metadata": {},
   "outputs": [
    {
     "data": {
      "image/png": "[encoded data removed]",
      "text/plain": [
       "<Figure size 864x648 with 1 Axes>"
      ]
     },
     "metadata": {},
     "output_type": "display_data"
    }
   ],
   "source": [
    "plt.figure(figsize=(12,9))\n",
    "plt.title('Comparing Loss Curves for a Target of 0, Large Scale')\n",
    "plt.plot(probs, MSE, label='MSE')\n",
    "plt.plot(probs, xentropy, label='Cross Entropy')\n",
    "plt.legend()\n",
    "plt.xlabel('Prediction')\n",
    "plt.ylabel('Loss')\n",
    "plt.savefig('figures/xentropy_mse_losscurve_large.png', dpi=300, bbox_inches='tight')"
   ]
  },
  {
   "cell_type": "code",
   "execution_count": 55,
   "metadata": {},
   "outputs": [
    {
     "data": {
      "image/png": "[encoded data removed]",
      "text/plain": [
       "<Figure size 864x648 with 1 Axes>"
      ]
     },
     "metadata": {},
     "output_type": "display_data"
    }
   ],
   "source": [
    "plt.figure(figsize=(12,9))\n",
    "plt.title('Comparing Loss Curves for a Target of 0, Small Scale')\n",
    "plt.plot(probs, MSE, label='MSE')\n",
    "plt.plot(probs, xentropy, label='Cross Entropy')\n",
    "plt.legend()\n",
    "plt.xlabel('Prediction')\n",
    "plt.ylabel('Loss')\n",
    "plt.ylim(0,0.1)\n",
    "plt.xlim(0,0.1)\n",
    "plt.savefig('figures/xentropy_mse_losscurve_small.png', dpi=300, bbox_inches='tight')"
   ]
  },
  {
   "cell_type": "code",
   "execution_count": null,
   "metadata": {},
   "outputs": [],
   "source": []
  }
 ],
 "metadata": {
  "kernelspec": {
   "display_name": "Python 3",
   "language": "python",
   "name": "python3"
  },
  "language_info": {
   "codemirror_mode": {
    "name": "ipython",
    "version": 3
   },
   "file_extension": ".py",
   "mimetype": "text/x-python",
   "name": "python",
   "nbconvert_exporter": "python",
   "pygments_lexer": "ipython3",
   "version": "3.6.4"
  }
 },
 "nbformat": 4,
 "nbformat_minor": 2
}
