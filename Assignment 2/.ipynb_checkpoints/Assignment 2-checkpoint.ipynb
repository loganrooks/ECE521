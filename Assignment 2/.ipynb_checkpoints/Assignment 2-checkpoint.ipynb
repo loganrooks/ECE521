{
 "cells": [
  {
   "cell_type": "code",
   "execution_count": 1,
   "metadata": {},
   "outputs": [],
   "source": [
    "import tensorflow as tf\n",
    "import numpy as np\n",
    "import matplotlib.pyplot as plt\n",
    "%matplotlib inline"
   ]
  },
  {
   "cell_type": "code",
   "execution_count": 2,
   "metadata": {},
   "outputs": [],
   "source": [
    "from tensorflow.python.client import device_lib\n",
    "\n",
    "def get_available_gpus():\n",
    "    local_device_protos = device_lib.list_local_devices()\n",
    "    return [x.name for x in local_device_protos if x.device_type == 'GPU']"
   ]
  },
  {
   "cell_type": "code",
   "execution_count": 3,
   "metadata": {},
   "outputs": [
    {
     "data": {
      "text/plain": [
       "['/device:GPU:0']"
      ]
     },
     "execution_count": 3,
     "metadata": {},
     "output_type": "execute_result"
    }
   ],
   "source": [
    "get_available_gpus()"
   ]
  },
  {
   "cell_type": "code",
   "execution_count": 4,
   "metadata": {},
   "outputs": [],
   "source": [
    "with np.load(\"notMNIST.npz\") as data :\n",
    "    Data, Target = data [\"images\"], data[\"labels\"]\n",
    "    posClass = 2\n",
    "    negClass = 9\n",
    "    dataIndx = (Target==posClass) + (Target==negClass)\n",
    "    Data = Data[dataIndx]/255.\n",
    "    Target = Target[dataIndx].reshape(-1, 1)\n",
    "    Target[Target==posClass] = 1\n",
    "    Target[Target==negClass] = 0\n",
    "    np.random.seed(521)\n",
    "    randIndx = np.arange(len(Data))\n",
    "    np.random.shuffle(randIndx)\n",
    "    Data, Target = Data[randIndx], Target[randIndx]\n",
    "    trainData, trainTarget = Data[:3500], Target[:3500]\n",
    "    validData, validTarget = Data[3500:3600], Target[3500:3600]\n",
    "    testData, testTarget = Data[3600:], Target[3600:]"
   ]
  },
  {
   "cell_type": "code",
   "execution_count": 5,
   "metadata": {},
   "outputs": [],
   "source": [
    "learning_rate = 0.005\n",
    "n_epochs = 20000\n",
    "batch_size = 500\n",
    "n_dim = 28*28"
   ]
  },
  {
   "cell_type": "code",
   "execution_count": 6,
   "metadata": {},
   "outputs": [],
   "source": [
    "def grab_batches(trainData, trainTarget, batch_size):\n",
    "    batch_indices = np.random.permutation(range(3500)).reshape(-1, batch_size)\n",
    "    X_batches = trainData.reshape(-1, n_dim)[batch_indices]\n",
    "    y_batches = trainTarget[batch_indices]\n",
    "    batches = zip(X_batches, y_batches)\n",
    "    return batches"
   ]
  },
  {
   "cell_type": "code",
   "execution_count": 8,
   "metadata": {},
   "outputs": [],
   "source": [
    "X = tf.placeholder(tf.float32,[None,n_dim])\n",
    "Y = tf.placeholder(tf.float32,[None,1])\n",
    "W = tf.Variable(tf.ones([n_dim,1]))\n",
    "weight_decay = tf.placeholder(tf.float32)"
   ]
  },
  {
   "cell_type": "code",
   "execution_count": 9,
   "metadata": {},
   "outputs": [],
   "source": [
    "y_ = tf.matmul(X, W)\n",
    "\n",
    "loss = tf.reduce_mean(tf.squared_difference(y_, Y))\n",
    "regularizer = tf.nn.l2_loss(W)\n",
    "loss = tf.reduce_mean(loss + weight_decay * regularizer)\n",
    "\n",
    "prediction = tf.cast(tf.round(tf.sigmoid(y_)), tf.int8)\n",
    "equality = tf.equal(prediction, tf.cast(Y, tf.int8))\n",
    "accuracy = tf.reduce_mean(tf.cast(equality, tf.float32))\n",
    "\n",
    "training_step = tf.train.GradientDescentOptimizer(learning_rate).minimize(loss)\n",
    "init = tf.global_variables_initializer()"
   ]
  },
  {
   "cell_type": "code",
   "execution_count": 18,
   "metadata": {},
   "outputs": [],
   "source": [
    "weight_decays = [0.0, 0.001, 0.1, 1]\n",
    "valid_accuracies = []\n",
    "train_accuracies = []\n",
    "test_accuracies = []"
   ]
  },
  {
   "cell_type": "code",
   "execution_count": 19,
   "metadata": {},
   "outputs": [
    {
     "name": "stdout",
     "output_type": "stream",
     "text": [
      "Weight Decay: 0.0 \n",
      "\n",
      "Epoch: 500, Loss: 0.03818373754620552, Accuracy: 0.7451428771018982\n",
      "Epoch: 1000, Loss: 0.03257773816585541, Accuracy: 0.7051428556442261\n",
      "Epoch: 1500, Loss: 0.030801784247159958, Accuracy: 0.7142857313156128\n",
      "Epoch: 2000, Loss: 0.029946785420179367, Accuracy: 0.7028571367263794\n",
      "Epoch: 2500, Loss: 0.029140999540686607, Accuracy: 0.7231428623199463\n",
      "Epoch: 3000, Loss: 0.02860431745648384, Accuracy: 0.7265714406967163\n",
      "Epoch: 3500, Loss: 0.028226785361766815, Accuracy: 0.7037143111228943\n",
      "Epoch: 4000, Loss: 0.027828868478536606, Accuracy: 0.7134285569190979\n",
      "Epoch: 4500, Loss: 0.027520209550857544, Accuracy: 0.7208571434020996\n",
      "Epoch: 5000, Loss: 0.02809346467256546, Accuracy: 0.6600000262260437\n",
      "Epoch: 5500, Loss: 0.027128228917717934, Accuracy: 0.7345714569091797\n",
      "Epoch: 6000, Loss: 0.027032723650336266, Accuracy: 0.7519999742507935\n",
      "Epoch: 6500, Loss: 0.026794971898198128, Accuracy: 0.6928571462631226\n",
      "Epoch: 7000, Loss: 0.026470541954040527, Accuracy: 0.7265714406967163\n",
      "Epoch: 7500, Loss: 0.026325801387429237, Accuracy: 0.7222856879234314\n",
      "Epoch: 8000, Loss: 0.026214634999632835, Accuracy: 0.7385714054107666\n",
      "Epoch: 8500, Loss: 0.026290753856301308, Accuracy: 0.7571428418159485\n",
      "Epoch: 9000, Loss: 0.026088442653417587, Accuracy: 0.751714289188385\n",
      "Epoch: 9500, Loss: 0.02588004060089588, Accuracy: 0.7114285826683044\n",
      "Epoch: 10000, Loss: 0.02589157596230507, Accuracy: 0.6985714435577393\n",
      "Epoch: 10500, Loss: 0.02575250156223774, Accuracy: 0.7077142596244812\n",
      "Epoch: 11000, Loss: 0.025548141449689865, Accuracy: 0.7345714569091797\n",
      "Epoch: 11500, Loss: 0.025461506098508835, Accuracy: 0.7225714325904846\n",
      "Epoch: 12000, Loss: 0.02539346180856228, Accuracy: 0.7365714311599731\n",
      "Epoch: 12500, Loss: 0.025307893753051758, Accuracy: 0.7145714163780212\n",
      "Epoch: 13000, Loss: 0.025250451639294624, Accuracy: 0.7374285459518433\n",
      "Epoch: 13500, Loss: 0.025180308148264885, Accuracy: 0.7260000109672546\n",
      "Epoch: 14000, Loss: 0.02510245144367218, Accuracy: 0.722000002861023\n",
      "Epoch: 14500, Loss: 0.02504778653383255, Accuracy: 0.7374285459518433\n",
      "Epoch: 15000, Loss: 0.024981070309877396, Accuracy: 0.7300000190734863\n",
      "Epoch: 15500, Loss: 0.02545342594385147, Accuracy: 0.7731428742408752\n",
      "Epoch: 16000, Loss: 0.0249020978808403, Accuracy: 0.732285737991333\n",
      "Epoch: 16500, Loss: 0.02506326697766781, Accuracy: 0.6957142949104309\n",
      "Epoch: 17000, Loss: 0.024777762591838837, Accuracy: 0.7205714583396912\n",
      "Epoch: 17500, Loss: 0.02482399344444275, Accuracy: 0.7005714178085327\n",
      "Epoch: 18000, Loss: 0.025193754583597183, Accuracy: 0.6785714030265808\n",
      "Epoch: 18500, Loss: 0.024650853127241135, Accuracy: 0.7331428527832031\n",
      "Epoch: 19000, Loss: 0.024730948731303215, Accuracy: 0.7011428475379944\n",
      "Epoch: 19500, Loss: 0.02491016685962677, Accuracy: 0.6854285597801208\n",
      "Epoch: 20000, Loss: 0.024589989334344864, Accuracy: 0.7437142729759216\n",
      "Weight Decay: 0.001 \n",
      "\n",
      "Epoch: 500, Loss: 0.0380781888961792, Accuracy: 0.7248571515083313\n",
      "Epoch: 1000, Loss: 0.03279663622379303, Accuracy: 0.7071428298950195\n",
      "Epoch: 1500, Loss: 0.03114938549697399, Accuracy: 0.6991428732872009\n",
      "Epoch: 2000, Loss: 0.03021056391298771, Accuracy: 0.7117142677307129\n",
      "Epoch: 2500, Loss: 0.029580293223261833, Accuracy: 0.723714292049408\n",
      "Epoch: 3000, Loss: 0.02911767177283764, Accuracy: 0.7154285907745361\n",
      "Epoch: 3500, Loss: 0.028773413971066475, Accuracy: 0.7102857232093811\n",
      "Epoch: 4000, Loss: 0.028786443173885345, Accuracy: 0.6785714030265808\n",
      "Epoch: 4500, Loss: 0.028260063380002975, Accuracy: 0.7279999852180481\n",
      "Epoch: 5000, Loss: 0.028060875833034515, Accuracy: 0.7242857217788696\n",
      "Epoch: 5500, Loss: 0.02790733426809311, Accuracy: 0.7274285554885864\n",
      "Epoch: 6000, Loss: 0.027839649468660355, Accuracy: 0.698285698890686\n",
      "Epoch: 6500, Loss: 0.02766541950404644, Accuracy: 0.7034285664558411\n",
      "Epoch: 7000, Loss: 0.02767414040863514, Accuracy: 0.693142831325531\n",
      "Epoch: 7500, Loss: 0.027478497475385666, Accuracy: 0.7088571190834045\n",
      "Epoch: 8000, Loss: 0.027352478355169296, Accuracy: 0.7342857122421265\n",
      "Epoch: 8500, Loss: 0.02735447697341442, Accuracy: 0.7045714259147644\n",
      "Epoch: 9000, Loss: 0.02719523198902607, Accuracy: 0.723714292049408\n",
      "Epoch: 9500, Loss: 0.027222445234656334, Accuracy: 0.7057142853736877\n",
      "Epoch: 10000, Loss: 0.027501123026013374, Accuracy: 0.7699999809265137\n",
      "Epoch: 10500, Loss: 0.027041766792535782, Accuracy: 0.7200000286102295\n",
      "Epoch: 11000, Loss: 0.027074983343482018, Accuracy: 0.7028571367263794\n",
      "Epoch: 11500, Loss: 0.026943374425172806, Accuracy: 0.7248571515083313\n",
      "Epoch: 12000, Loss: 0.027010910212993622, Accuracy: 0.7071428298950195\n",
      "Epoch: 12500, Loss: 0.027131015434861183, Accuracy: 0.7545714378356934\n",
      "Epoch: 13000, Loss: 0.02684716135263443, Accuracy: 0.7291428446769714\n",
      "Epoch: 13500, Loss: 0.027026496827602386, Accuracy: 0.6925714015960693\n",
      "Epoch: 14000, Loss: 0.026893364265561104, Accuracy: 0.7065714001655579\n",
      "Epoch: 14500, Loss: 0.026778176426887512, Accuracy: 0.7225714325904846\n",
      "Epoch: 15000, Loss: 0.026804940775036812, Accuracy: 0.7451428771018982\n",
      "Epoch: 15500, Loss: 0.02676812931895256, Accuracy: 0.7360000014305115\n",
      "Epoch: 16000, Loss: 0.026797542348504066, Accuracy: 0.7402856945991516\n",
      "Epoch: 16500, Loss: 0.026720961555838585, Accuracy: 0.7382857203483582\n",
      "Epoch: 17000, Loss: 0.026704968884587288, Accuracy: 0.7188571691513062\n",
      "Epoch: 17500, Loss: 0.02671962045133114, Accuracy: 0.7111428380012512\n",
      "Epoch: 18000, Loss: 0.026660216972231865, Accuracy: 0.7325714230537415\n",
      "Epoch: 18500, Loss: 0.026648882776498795, Accuracy: 0.7211428284645081\n",
      "Epoch: 19000, Loss: 0.026659280061721802, Accuracy: 0.7360000014305115\n",
      "Epoch: 19500, Loss: 0.02664516121149063, Accuracy: 0.7122856974601746\n",
      "Epoch: 20000, Loss: 0.026668624952435493, Accuracy: 0.7385714054107666\n",
      "Weight Decay: 0.1 \n",
      "\n",
      "Epoch: 500, Loss: 0.039554718881845474, Accuracy: 0.6928571462631226\n",
      "Epoch: 1000, Loss: 0.038954563438892365, Accuracy: 0.730571448802948\n",
      "Epoch: 1500, Loss: 0.038787178695201874, Accuracy: 0.7071428298950195\n",
      "Epoch: 2000, Loss: 0.03879677504301071, Accuracy: 0.6862857341766357\n",
      "Epoch: 2500, Loss: 0.039058975875377655, Accuracy: 0.7374285459518433\n",
      "Epoch: 3000, Loss: 0.03877655789256096, Accuracy: 0.7028571367263794\n",
      "Epoch: 3500, Loss: 0.038804810494184494, Accuracy: 0.6825714111328125\n",
      "Epoch: 4000, Loss: 0.03892425447702408, Accuracy: 0.7308571338653564\n",
      "Epoch: 4500, Loss: 0.03891950100660324, Accuracy: 0.6660000085830688\n",
      "Epoch: 5000, Loss: 0.03889305517077446, Accuracy: 0.6811428666114807\n",
      "Epoch: 5500, Loss: 0.039098385721445084, Accuracy: 0.6505714058876038\n",
      "Epoch: 6000, Loss: 0.03888483718037605, Accuracy: 0.6777142882347107\n",
      "Epoch: 6500, Loss: 0.039171017706394196, Accuracy: 0.74314284324646\n",
      "Epoch: 7000, Loss: 0.03901493921875954, Accuracy: 0.7428571581840515\n",
      "Epoch: 7500, Loss: 0.03877484053373337, Accuracy: 0.7108571529388428\n",
      "Epoch: 8000, Loss: 0.038771674036979675, Accuracy: 0.7022857069969177\n",
      "Epoch: 8500, Loss: 0.03887567296624184, Accuracy: 0.6808571219444275\n",
      "Epoch: 9000, Loss: 0.03890102356672287, Accuracy: 0.7231428623199463\n",
      "Epoch: 9500, Loss: 0.03883550316095352, Accuracy: 0.6814285516738892\n",
      "Epoch: 10000, Loss: 0.038785483688116074, Accuracy: 0.7139999866485596\n",
      "Epoch: 10500, Loss: 0.03877503424882889, Accuracy: 0.6991428732872009\n",
      "Epoch: 11000, Loss: 0.03883972764015198, Accuracy: 0.6817142963409424\n",
      "Epoch: 11500, Loss: 0.03898810222744942, Accuracy: 0.7394285798072815\n",
      "Epoch: 12000, Loss: 0.038984403014183044, Accuracy: 0.7365714311599731\n",
      "Epoch: 12500, Loss: 0.03888712450861931, Accuracy: 0.7282857298851013\n",
      "Epoch: 13000, Loss: 0.039088379591703415, Accuracy: 0.6505714058876038\n",
      "Epoch: 13500, Loss: 0.03877686709165573, Accuracy: 0.696571409702301\n",
      "Epoch: 14000, Loss: 0.038830164819955826, Accuracy: 0.7251428365707397\n",
      "Epoch: 14500, Loss: 0.0389246866106987, Accuracy: 0.7345714569091797\n",
      "Epoch: 15000, Loss: 0.03881775587797165, Accuracy: 0.6897143125534058\n",
      "Epoch: 15500, Loss: 0.03892587497830391, Accuracy: 0.7239999771118164\n",
      "Epoch: 16000, Loss: 0.03881780803203583, Accuracy: 0.6800000071525574\n",
      "Epoch: 16500, Loss: 0.038824643939733505, Accuracy: 0.691428542137146\n",
      "Epoch: 17000, Loss: 0.03884883224964142, Accuracy: 0.7268571257591248\n",
      "Epoch: 17500, Loss: 0.03877129405736923, Accuracy: 0.701714277267456\n",
      "Epoch: 18000, Loss: 0.038771651685237885, Accuracy: 0.7039999961853027\n",
      "Epoch: 18500, Loss: 0.03889178857207298, Accuracy: 0.6671428680419922\n"
     ]
    },
    {
     "name": "stdout",
     "output_type": "stream",
     "text": [
      "Epoch: 19000, Loss: 0.03878021985292435, Accuracy: 0.6897143125534058\n",
      "Epoch: 19500, Loss: 0.03934239223599434, Accuracy: 0.7648571133613586\n",
      "Epoch: 20000, Loss: 0.0387965552508831, Accuracy: 0.6880000233650208\n",
      "Weight Decay: 1 \n",
      "\n",
      "Epoch: 500, Loss: 0.05102144181728363, Accuracy: 0.7077142596244812\n",
      "Epoch: 1000, Loss: 0.05093966796994209, Accuracy: 0.6971428394317627\n",
      "Epoch: 1500, Loss: 0.05093241110444069, Accuracy: 0.6951428651809692\n",
      "Epoch: 2000, Loss: 0.05105065926909447, Accuracy: 0.7134285569190979\n",
      "Epoch: 2500, Loss: 0.05097981542348862, Accuracy: 0.6751428842544556\n",
      "Epoch: 3000, Loss: 0.05121609568595886, Accuracy: 0.6622856855392456\n",
      "Epoch: 3500, Loss: 0.05182407423853874, Accuracy: 0.62628573179245\n",
      "Epoch: 4000, Loss: 0.05094046890735626, Accuracy: 0.7005714178085327\n",
      "Epoch: 4500, Loss: 0.05133337154984474, Accuracy: 0.7400000095367432\n",
      "Epoch: 5000, Loss: 0.05093421787023544, Accuracy: 0.6937142610549927\n",
      "Epoch: 5500, Loss: 0.05098316818475723, Accuracy: 0.6742857098579407\n",
      "Epoch: 6000, Loss: 0.051439106464385986, Accuracy: 0.7374285459518433\n",
      "Epoch: 6500, Loss: 0.05094766616821289, Accuracy: 0.698285698890686\n",
      "Epoch: 7000, Loss: 0.05131392180919647, Accuracy: 0.7334285974502563\n",
      "Epoch: 7500, Loss: 0.05093396455049515, Accuracy: 0.6919999718666077\n",
      "Epoch: 8000, Loss: 0.05093478783965111, Accuracy: 0.6837142705917358\n",
      "Epoch: 8500, Loss: 0.05100522190332413, Accuracy: 0.7065714001655579\n",
      "Epoch: 9000, Loss: 0.05101818963885307, Accuracy: 0.6694285869598389\n",
      "Epoch: 9500, Loss: 0.05092909187078476, Accuracy: 0.6854285597801208\n",
      "Epoch: 10000, Loss: 0.05093781277537346, Accuracy: 0.680571436882019\n",
      "Epoch: 10500, Loss: 0.051020294427871704, Accuracy: 0.6648571491241455\n",
      "Epoch: 11000, Loss: 0.050935618579387665, Accuracy: 0.698285698890686\n",
      "Epoch: 11500, Loss: 0.051020022481679916, Accuracy: 0.6725714206695557\n",
      "Epoch: 12000, Loss: 0.051005762070417404, Accuracy: 0.7094285488128662\n",
      "Epoch: 12500, Loss: 0.05093848332762718, Accuracy: 0.6980000138282776\n",
      "Epoch: 13000, Loss: 0.05092748999595642, Accuracy: 0.6937142610549927\n",
      "Epoch: 13500, Loss: 0.050970420241355896, Accuracy: 0.677142858505249\n",
      "Epoch: 14000, Loss: 0.05094553530216217, Accuracy: 0.6985714435577393\n",
      "Epoch: 14500, Loss: 0.051199011504650116, Accuracy: 0.665142834186554\n",
      "Epoch: 15000, Loss: 0.050964243710041046, Accuracy: 0.6759999990463257\n",
      "Epoch: 15500, Loss: 0.05092969164252281, Accuracy: 0.6862857341766357\n",
      "Epoch: 16000, Loss: 0.050933629274368286, Accuracy: 0.6800000071525574\n",
      "Epoch: 16500, Loss: 0.051485463976860046, Accuracy: 0.6448571681976318\n",
      "Epoch: 17000, Loss: 0.05098721385002136, Accuracy: 0.704285740852356\n",
      "Epoch: 17500, Loss: 0.05098462477326393, Accuracy: 0.6711428761482239\n",
      "Epoch: 18000, Loss: 0.05116291344165802, Accuracy: 0.7239999771118164\n",
      "Epoch: 18500, Loss: 0.050944387912750244, Accuracy: 0.6959999799728394\n",
      "Epoch: 19000, Loss: 0.05092920735478401, Accuracy: 0.6945714354515076\n",
      "Epoch: 19500, Loss: 0.05111156404018402, Accuracy: 0.6602857112884521\n",
      "Epoch: 20000, Loss: 0.05093968287110329, Accuracy: 0.6794285774230957\n"
     ]
    }
   ],
   "source": [
    "with tf.Session() as sess:\n",
    "    for wd in weight_decays:\n",
    "        sess.run(init)\n",
    "        print(\"Weight Decay: {} \\n\".format(wd))\n",
    "        for epoch in range(1,n_epochs+1):\n",
    "            batches = grab_batches(trainData, trainTarget, batch_size)\n",
    "            for X_batch, y_batch in batches:\n",
    "                sess.run(training_step, feed_dict={X: X_batch, Y: y_batch, weight_decay: wd})\n",
    "            if epoch % 500 == 0:\n",
    "                feed_dict ={X: trainData.reshape(-1,n_dim), Y: trainTarget, weight_decay: wd}\n",
    "                train_loss, train_accuracy = sess.run([loss, accuracy], feed_dict)\n",
    "                print(\"Epoch: {}, Loss: {}, Accuracy: {}\".format(epoch, train_loss, train_accuracy))\n",
    "        train_accuracies.append(train_accuracy)\n",
    "        valid_accuracy = sess.run(accuracy, feed_dict = {X: validData.reshape(-1,n_dim), Y: validTarget})\n",
    "        valid_accuracies.append(valid_accuracy)\n",
    "        test_accuracy = sess.run(accuracy, feed_dict = {X: testData.reshape(-1,n_dim), Y: testTarget})\n",
    "        test_accuracies.append(test_accuracy)"
   ]
  },
  {
   "cell_type": "code",
   "execution_count": 22,
   "metadata": {},
   "outputs": [
    {
     "data": {
      "text/plain": [
       "[0.73, 0.72, 0.67, 0.66]"
      ]
     },
     "execution_count": 22,
     "metadata": {},
     "output_type": "execute_result"
    }
   ],
   "source": [
    "valid_accuracies"
   ]
  },
  {
   "cell_type": "code",
   "execution_count": 23,
   "metadata": {},
   "outputs": [
    {
     "data": {
      "text/plain": [
       "[0.7437143, 0.7385714, 0.688, 0.6794286]"
      ]
     },
     "execution_count": 23,
     "metadata": {},
     "output_type": "execute_result"
    }
   ],
   "source": [
    "train_accuracies"
   ]
  },
  {
   "cell_type": "code",
   "execution_count": 24,
   "metadata": {
    "scrolled": true
   },
   "outputs": [
    {
     "data": {
      "text/plain": [
       "[0.7862069, 0.7586207, 0.71034485, 0.7241379]"
      ]
     },
     "execution_count": 24,
     "metadata": {},
     "output_type": "execute_result"
    }
   ],
   "source": [
    "test_accuracies"
   ]
  },
  {
   "cell_type": "markdown",
   "metadata": {},
   "source": [
    "## Comparison SGD with Normal Equation"
   ]
  },
  {
   "cell_type": "code",
   "execution_count": 30,
   "metadata": {},
   "outputs": [],
   "source": [
    "def normal_equation():\n",
    "    W = tf.matmul(tf.inverse(tf.matmul(tf.transpose(trainData), trainData)), tf.matmul(trainData, trainTarget))\n",
    "    return W"
   ]
  },
  {
   "cell_type": "code",
   "execution_count": 31,
   "metadata": {},
   "outputs": [],
   "source": [
    "def train():\n",
    "    with tf.Session() as sess:\n",
    "        sess.run(init)\n",
    "        for epoch in range(1,n_epochs+1):\n",
    "            batches = grab_batches(trainData, trainTarget, batch_size)\n",
    "            for X_batch, y_batch in batches:\n",
    "                sess.run(training_step, feed_dict={X: X_batch, Y: y_batch, weight_decay: 0.0})"
   ]
  },
  {
   "cell_type": "code",
   "execution_count": 32,
   "metadata": {},
   "outputs": [
    {
     "ename": "NameError",
     "evalue": "name 'normal_equation' is not defined",
     "output_type": "error",
     "traceback": [
      "\u001b[0;31m--------------\u001b[0m",
      "\u001b[0;31mNameError\u001b[0mTraceback (most recent call last)",
      "\u001b[0;32m<ipython-input-32-2a1c9add9143>\u001b[0m in \u001b[0;36m<module>\u001b[0;34m()\u001b[0m\n\u001b[1;32m      1\u001b[0m \u001b[0;32mimport\u001b[0m \u001b[0mtimeit\u001b[0m\u001b[0;34m\u001b[0m\u001b[0m\n\u001b[0;32m----> 2\u001b[0;31m \u001b[0mtimeit\u001b[0m\u001b[0;34m.\u001b[0m\u001b[0mtimeit\u001b[0m\u001b[0;34m(\u001b[0m\u001b[0;34m'normal_equation(trainData, trainTarget)'\u001b[0m\u001b[0;34m)\u001b[0m\u001b[0;34m\u001b[0m\u001b[0m\n\u001b[0m",
      "\u001b[0;32m~/anaconda3/envs/tensorflow3/lib/python3.6/timeit.py\u001b[0m in \u001b[0;36mtimeit\u001b[0;34m(stmt, setup, timer, number, globals)\u001b[0m\n\u001b[1;32m    231\u001b[0m            number=default_number, globals=None):\n\u001b[1;32m    232\u001b[0m     \u001b[0;34m\"\"\"Convenience function to create Timer object and call timeit method.\"\"\"\u001b[0m\u001b[0;34m\u001b[0m\u001b[0m\n\u001b[0;32m--> 233\u001b[0;31m     \u001b[0;32mreturn\u001b[0m \u001b[0mTimer\u001b[0m\u001b[0;34m(\u001b[0m\u001b[0mstmt\u001b[0m\u001b[0;34m,\u001b[0m \u001b[0msetup\u001b[0m\u001b[0;34m,\u001b[0m \u001b[0mtimer\u001b[0m\u001b[0;34m,\u001b[0m \u001b[0mglobals\u001b[0m\u001b[0;34m)\u001b[0m\u001b[0;34m.\u001b[0m\u001b[0mtimeit\u001b[0m\u001b[0;34m(\u001b[0m\u001b[0mnumber\u001b[0m\u001b[0;34m)\u001b[0m\u001b[0;34m\u001b[0m\u001b[0m\n\u001b[0m\u001b[1;32m    234\u001b[0m \u001b[0;34m\u001b[0m\u001b[0m\n\u001b[1;32m    235\u001b[0m def repeat(stmt=\"pass\", setup=\"pass\", timer=default_timer,\n",
      "\u001b[0;32m~/anaconda3/envs/tensorflow3/lib/python3.6/timeit.py\u001b[0m in \u001b[0;36mtimeit\u001b[0;34m(self, number)\u001b[0m\n\u001b[1;32m    176\u001b[0m         \u001b[0mgc\u001b[0m\u001b[0;34m.\u001b[0m\u001b[0mdisable\u001b[0m\u001b[0;34m(\u001b[0m\u001b[0;34m)\u001b[0m\u001b[0;34m\u001b[0m\u001b[0m\n\u001b[1;32m    177\u001b[0m         \u001b[0;32mtry\u001b[0m\u001b[0;34m:\u001b[0m\u001b[0;34m\u001b[0m\u001b[0m\n\u001b[0;32m--> 178\u001b[0;31m             \u001b[0mtiming\u001b[0m \u001b[0;34m=\u001b[0m \u001b[0mself\u001b[0m\u001b[0;34m.\u001b[0m\u001b[0minner\u001b[0m\u001b[0;34m(\u001b[0m\u001b[0mit\u001b[0m\u001b[0;34m,\u001b[0m \u001b[0mself\u001b[0m\u001b[0;34m.\u001b[0m\u001b[0mtimer\u001b[0m\u001b[0;34m)\u001b[0m\u001b[0;34m\u001b[0m\u001b[0m\n\u001b[0m\u001b[1;32m    179\u001b[0m         \u001b[0;32mfinally\u001b[0m\u001b[0;34m:\u001b[0m\u001b[0;34m\u001b[0m\u001b[0m\n\u001b[1;32m    180\u001b[0m             \u001b[0;32mif\u001b[0m \u001b[0mgcold\u001b[0m\u001b[0;34m:\u001b[0m\u001b[0;34m\u001b[0m\u001b[0m\n",
      "\u001b[0;32m~/anaconda3/envs/tensorflow3/lib/python3.6/timeit.py\u001b[0m in \u001b[0;36minner\u001b[0;34m(_it, _timer)\u001b[0m\n",
      "\u001b[0;31mNameError\u001b[0m: name 'normal_equation' is not defined"
     ]
    }
   ],
   "source": [
    "import timeit\n",
    "timeit.timeit('normal_equation(trainData, trainTarget)')"
   ]
  },
  {
   "cell_type": "code",
   "execution_count": 33,
   "metadata": {},
   "outputs": [
    {
     "ename": "NameError",
     "evalue": "name 'train' is not defined",
     "output_type": "error",
     "traceback": [
      "\u001b[0;31m--------------\u001b[0m",
      "\u001b[0;31mNameError\u001b[0mTraceback (most recent call last)",
      "\u001b[0;32m<ipython-input-33-90a9aa6e12da>\u001b[0m in \u001b[0;36m<module>\u001b[0;34m()\u001b[0m\n\u001b[0;32m----> 1\u001b[0;31m \u001b[0mtimeit\u001b[0m\u001b[0;34m.\u001b[0m\u001b[0mtimeit\u001b[0m\u001b[0;34m(\u001b[0m\u001b[0;34m'train(trainData, trainTarget, n_epochs=2000)'\u001b[0m\u001b[0;34m)\u001b[0m\u001b[0;34m\u001b[0m\u001b[0m\n\u001b[0m",
      "\u001b[0;32m~/anaconda3/envs/tensorflow3/lib/python3.6/timeit.py\u001b[0m in \u001b[0;36mtimeit\u001b[0;34m(stmt, setup, timer, number, globals)\u001b[0m\n\u001b[1;32m    231\u001b[0m            number=default_number, globals=None):\n\u001b[1;32m    232\u001b[0m     \u001b[0;34m\"\"\"Convenience function to create Timer object and call timeit method.\"\"\"\u001b[0m\u001b[0;34m\u001b[0m\u001b[0m\n\u001b[0;32m--> 233\u001b[0;31m     \u001b[0;32mreturn\u001b[0m \u001b[0mTimer\u001b[0m\u001b[0;34m(\u001b[0m\u001b[0mstmt\u001b[0m\u001b[0;34m,\u001b[0m \u001b[0msetup\u001b[0m\u001b[0;34m,\u001b[0m \u001b[0mtimer\u001b[0m\u001b[0;34m,\u001b[0m \u001b[0mglobals\u001b[0m\u001b[0;34m)\u001b[0m\u001b[0;34m.\u001b[0m\u001b[0mtimeit\u001b[0m\u001b[0;34m(\u001b[0m\u001b[0mnumber\u001b[0m\u001b[0;34m)\u001b[0m\u001b[0;34m\u001b[0m\u001b[0m\n\u001b[0m\u001b[1;32m    234\u001b[0m \u001b[0;34m\u001b[0m\u001b[0m\n\u001b[1;32m    235\u001b[0m def repeat(stmt=\"pass\", setup=\"pass\", timer=default_timer,\n",
      "\u001b[0;32m~/anaconda3/envs/tensorflow3/lib/python3.6/timeit.py\u001b[0m in \u001b[0;36mtimeit\u001b[0;34m(self, number)\u001b[0m\n\u001b[1;32m    176\u001b[0m         \u001b[0mgc\u001b[0m\u001b[0;34m.\u001b[0m\u001b[0mdisable\u001b[0m\u001b[0;34m(\u001b[0m\u001b[0;34m)\u001b[0m\u001b[0;34m\u001b[0m\u001b[0m\n\u001b[1;32m    177\u001b[0m         \u001b[0;32mtry\u001b[0m\u001b[0;34m:\u001b[0m\u001b[0;34m\u001b[0m\u001b[0m\n\u001b[0;32m--> 178\u001b[0;31m             \u001b[0mtiming\u001b[0m \u001b[0;34m=\u001b[0m \u001b[0mself\u001b[0m\u001b[0;34m.\u001b[0m\u001b[0minner\u001b[0m\u001b[0;34m(\u001b[0m\u001b[0mit\u001b[0m\u001b[0;34m,\u001b[0m \u001b[0mself\u001b[0m\u001b[0;34m.\u001b[0m\u001b[0mtimer\u001b[0m\u001b[0;34m)\u001b[0m\u001b[0;34m\u001b[0m\u001b[0m\n\u001b[0m\u001b[1;32m    179\u001b[0m         \u001b[0;32mfinally\u001b[0m\u001b[0;34m:\u001b[0m\u001b[0;34m\u001b[0m\u001b[0m\n\u001b[1;32m    180\u001b[0m             \u001b[0;32mif\u001b[0m \u001b[0mgcold\u001b[0m\u001b[0;34m:\u001b[0m\u001b[0;34m\u001b[0m\u001b[0m\n",
      "\u001b[0;32m~/anaconda3/envs/tensorflow3/lib/python3.6/timeit.py\u001b[0m in \u001b[0;36minner\u001b[0;34m(_it, _timer)\u001b[0m\n",
      "\u001b[0;31mNameError\u001b[0m: name 'train' is not defined"
     ]
    }
   ],
   "source": [
    "timeit.timeit('train(trainData, trainTarget, n_epochs=2000)')"
   ]
  },
  {
   "cell_type": "code",
   "execution_count": null,
   "metadata": {},
   "outputs": [],
   "source": []
  }
 ],
 "metadata": {
  "kernelspec": {
   "display_name": "Python 3",
   "language": "python",
   "name": "python3"
  },
  "language_info": {
   "codemirror_mode": {
    "name": "ipython",
    "version": 3
   },
   "file_extension": ".py",
   "mimetype": "text/x-python",
   "name": "python",
   "nbconvert_exporter": "python",
   "pygments_lexer": "ipython3",
   "version": "3.6.4"
  }
 },
 "nbformat": 4,
 "nbformat_minor": 2
}
